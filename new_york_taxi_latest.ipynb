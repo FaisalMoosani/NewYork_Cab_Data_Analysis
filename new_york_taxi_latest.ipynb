{
  "nbformat": 4,
  "nbformat_minor": 0,
  "metadata": {
    "colab": {
      "name": "new york taxi latest.ipynb",
      "provenance": [],
      "collapsed_sections": [],
      "machine_shape": "hm",
      "include_colab_link": true
    },
    "kernelspec": {
      "name": "python3",
      "display_name": "Python 3"
    },
    "accelerator": "GPU"
  },
  "cells": [
    {
      "cell_type": "markdown",
      "metadata": {
        "id": "view-in-github",
        "colab_type": "text"
      },
      "source": [
        "<a href=\"https://colab.research.google.com/github/FaisalMoosani/Data-analysis-and-python-projects/blob/master/Taxi%20project/new_york_taxi_latest.ipynb\" target=\"_parent\"><img src=\"https://colab.research.google.com/assets/colab-badge.svg\" alt=\"Open In Colab\"/></a>"
      ]
    },
    {
      "cell_type": "markdown",
      "metadata": {
        "id": "3W2XO6DwEyWr",
        "colab_type": "text"
      },
      "source": [
        "# PROBLEM STATEMENT: FIND OUT THE PICKUP DENSITY GIVEN THE TIME AND REGION"
      ]
    },
    {
      "cell_type": "code",
      "metadata": {
        "id": "DkCCxKH1EtXT",
        "colab_type": "code",
        "colab": {}
      },
      "source": [
        "import dask.dataframe as dd     #for importing data frame \n",
        "import pandas as pd             #for importing data frame\n",
        "import folium                   #for open street map\n",
        "import datetime                 #Convert to unix time\n",
        "import time                     #Convert to unix time\n",
        "import numpy as np              #Do aritmetic operations on arrays\n",
        "import seaborn as sns           #Plots\n",
        "import matplotlib.pylab as plt  #Plots\n",
        "import matplotlib               #Plots\n",
        "from matplotlib import rcParams #Size of plots  \n",
        "import gpxpy.geo                #Get the haversine distance\n",
        "from sklearn.cluster import MiniBatchKMeans, KMeans #Clustering\n",
        "import math\n",
        "import scipy"
      ],
      "execution_count": 0,
      "outputs": []
    },
    {
      "cell_type": "code",
      "metadata": {
        "id": "icnTej54MX75",
        "colab_type": "code",
        "outputId": "84bfba49-45c0-411c-b21e-cc1ed2fbe149",
        "colab": {
          "base_uri": "https://localhost:8080/",
          "height": 207
        }
      },
      "source": [
        "pip install gpxpy"
      ],
      "execution_count": 1,
      "outputs": [
        {
          "output_type": "stream",
          "text": [
            "Collecting gpxpy\n",
            "\u001b[?25l  Downloading https://files.pythonhosted.org/packages/6e/d3/ce52e67771929de455e76655365a4935a2f369f76dfb0d70c20a308ec463/gpxpy-1.3.5.tar.gz (105kB)\n",
            "\r\u001b[K     |███                             | 10kB 18.2MB/s eta 0:00:01\r\u001b[K     |██████▏                         | 20kB 4.1MB/s eta 0:00:01\r\u001b[K     |█████████▎                      | 30kB 5.9MB/s eta 0:00:01\r\u001b[K     |████████████▍                   | 40kB 3.9MB/s eta 0:00:01\r\u001b[K     |███████████████▌                | 51kB 4.7MB/s eta 0:00:01\r\u001b[K     |██████████████████▋             | 61kB 5.6MB/s eta 0:00:01\r\u001b[K     |█████████████████████▊          | 71kB 6.4MB/s eta 0:00:01\r\u001b[K     |████████████████████████▉       | 81kB 7.2MB/s eta 0:00:01\r\u001b[K     |████████████████████████████    | 92kB 7.9MB/s eta 0:00:01\r\u001b[K     |███████████████████████████████ | 102kB 6.4MB/s eta 0:00:01\r\u001b[K     |████████████████████████████████| 112kB 6.4MB/s \n",
            "\u001b[?25hBuilding wheels for collected packages: gpxpy\n",
            "  Building wheel for gpxpy (setup.py) ... \u001b[?25l\u001b[?25hdone\n",
            "  Created wheel for gpxpy: filename=gpxpy-1.3.5-cp36-none-any.whl size=40315 sha256=93ead01b9da6df4ce3a7586f7e36baf3ff180c150d94e2751f9a2a2f5e8477c8\n",
            "  Stored in directory: /root/.cache/pip/wheels/d2/f0/5e/b8e85979e66efec3eaa0e47fbc5274db99fd1a07befd1b2aa4\n",
            "Successfully built gpxpy\n",
            "Installing collected packages: gpxpy\n",
            "Successfully installed gpxpy-1.3.5\n"
          ],
          "name": "stdout"
        }
      ]
    },
    {
      "cell_type": "code",
      "metadata": {
        "id": "J4tujrx2Dr4X",
        "colab_type": "code",
        "colab": {}
      },
      "source": [
        "# Code to read csv file into Colaboratory:\n",
        "!pip install -U -q PyDrive\n",
        "from pydrive.auth import GoogleAuth\n",
        "from pydrive.drive import GoogleDrive\n",
        "from google.colab import auth\n",
        "from oauth2client.client import GoogleCredentials\n",
        "# Authenticate and create the PyDrive client.\n",
        "auth.authenticate_user()\n",
        "gauth = GoogleAuth()\n",
        "gauth.credentials = GoogleCredentials.get_application_default()\n",
        "drive = GoogleDrive(gauth)"
      ],
      "execution_count": 0,
      "outputs": []
    },
    {
      "cell_type": "code",
      "metadata": {
        "id": "4R04ioV0D9Oq",
        "colab_type": "code",
        "outputId": "eeb9382d-194c-435a-b6cf-46e6c6a31a41",
        "colab": {
          "base_uri": "https://localhost:8080/",
          "height": 34
        }
      },
      "source": [
        "link = 'https://drive.google.com/open?id=19pxY-1nlolOS0bQLDRYRjAW5Vuanm-CD'\n",
        "fluff, id = link.split('=')\n",
        "print (id)\n",
        "downloaded = drive.CreateFile({'id':id}) \n",
        "downloaded.GetContentFile('Copy of yellow_tripdata_2015-01.csv')  \n",
        "month = dd.read_csv('Copy of yellow_tripdata_2015-01.csv')\n",
        "# Dataset is now stored in a dask Dataframe"
      ],
      "execution_count": 134,
      "outputs": [
        {
          "output_type": "stream",
          "text": [
            "19pxY-1nlolOS0bQLDRYRjAW5Vuanm-CD\n"
          ],
          "name": "stdout"
        }
      ]
    },
    {
      "cell_type": "code",
      "metadata": {
        "id": "OQ4W5WMNETu4",
        "colab_type": "code",
        "outputId": "ce5805b4-086b-44fa-9760-ea7daacc816d",
        "colab": {
          "base_uri": "https://localhost:8080/",
          "height": 136
        }
      },
      "source": [
        "print(month.columns)"
      ],
      "execution_count": 5,
      "outputs": [
        {
          "output_type": "stream",
          "text": [
            "Index(['VendorID', 'tpep_pickup_datetime', 'tpep_dropoff_datetime',\n",
            "       'passenger_count', 'trip_distance', 'pickup_longitude',\n",
            "       'pickup_latitude', 'RateCodeID', 'store_and_fwd_flag',\n",
            "       'dropoff_longitude', 'dropoff_latitude', 'payment_type', 'fare_amount',\n",
            "       'extra', 'mta_tax', 'tip_amount', 'tolls_amount',\n",
            "       'improvement_surcharge', 'total_amount'],\n",
            "      dtype='object')\n"
          ],
          "name": "stdout"
        }
      ]
    },
    {
      "cell_type": "code",
      "metadata": {
        "id": "RB4DNk7FEeia",
        "colab_type": "code",
        "outputId": "6fc54939-5449-4002-ec78-8b899ec6b797",
        "colab": {
          "base_uri": "https://localhost:8080/",
          "height": 224
        }
      },
      "source": [
        "month.head(5)"
      ],
      "execution_count": 6,
      "outputs": [
        {
          "output_type": "execute_result",
          "data": {
            "text/html": [
              "<div>\n",
              "<style scoped>\n",
              "    .dataframe tbody tr th:only-of-type {\n",
              "        vertical-align: middle;\n",
              "    }\n",
              "\n",
              "    .dataframe tbody tr th {\n",
              "        vertical-align: top;\n",
              "    }\n",
              "\n",
              "    .dataframe thead th {\n",
              "        text-align: right;\n",
              "    }\n",
              "</style>\n",
              "<table border=\"1\" class=\"dataframe\">\n",
              "  <thead>\n",
              "    <tr style=\"text-align: right;\">\n",
              "      <th></th>\n",
              "      <th>VendorID</th>\n",
              "      <th>tpep_pickup_datetime</th>\n",
              "      <th>tpep_dropoff_datetime</th>\n",
              "      <th>passenger_count</th>\n",
              "      <th>trip_distance</th>\n",
              "      <th>pickup_longitude</th>\n",
              "      <th>pickup_latitude</th>\n",
              "      <th>RateCodeID</th>\n",
              "      <th>store_and_fwd_flag</th>\n",
              "      <th>dropoff_longitude</th>\n",
              "      <th>dropoff_latitude</th>\n",
              "      <th>payment_type</th>\n",
              "      <th>fare_amount</th>\n",
              "      <th>extra</th>\n",
              "      <th>mta_tax</th>\n",
              "      <th>tip_amount</th>\n",
              "      <th>tolls_amount</th>\n",
              "      <th>improvement_surcharge</th>\n",
              "      <th>total_amount</th>\n",
              "    </tr>\n",
              "  </thead>\n",
              "  <tbody>\n",
              "    <tr>\n",
              "      <th>0</th>\n",
              "      <td>2</td>\n",
              "      <td>2015-01-15 19:05:39</td>\n",
              "      <td>2015-01-15 19:23:42</td>\n",
              "      <td>1</td>\n",
              "      <td>1.59</td>\n",
              "      <td>-73.993896</td>\n",
              "      <td>40.750111</td>\n",
              "      <td>1</td>\n",
              "      <td>N</td>\n",
              "      <td>-73.974785</td>\n",
              "      <td>40.750618</td>\n",
              "      <td>1</td>\n",
              "      <td>12.0</td>\n",
              "      <td>1.0</td>\n",
              "      <td>0.5</td>\n",
              "      <td>3.25</td>\n",
              "      <td>0.0</td>\n",
              "      <td>0.3</td>\n",
              "      <td>17.05</td>\n",
              "    </tr>\n",
              "    <tr>\n",
              "      <th>1</th>\n",
              "      <td>1</td>\n",
              "      <td>2015-01-10 20:33:38</td>\n",
              "      <td>2015-01-10 20:53:28</td>\n",
              "      <td>1</td>\n",
              "      <td>3.30</td>\n",
              "      <td>-74.001648</td>\n",
              "      <td>40.724243</td>\n",
              "      <td>1</td>\n",
              "      <td>N</td>\n",
              "      <td>-73.994415</td>\n",
              "      <td>40.759109</td>\n",
              "      <td>1</td>\n",
              "      <td>14.5</td>\n",
              "      <td>0.5</td>\n",
              "      <td>0.5</td>\n",
              "      <td>2.00</td>\n",
              "      <td>0.0</td>\n",
              "      <td>0.3</td>\n",
              "      <td>17.80</td>\n",
              "    </tr>\n",
              "    <tr>\n",
              "      <th>2</th>\n",
              "      <td>1</td>\n",
              "      <td>2015-01-10 20:33:38</td>\n",
              "      <td>2015-01-10 20:43:41</td>\n",
              "      <td>1</td>\n",
              "      <td>1.80</td>\n",
              "      <td>-73.963341</td>\n",
              "      <td>40.802788</td>\n",
              "      <td>1</td>\n",
              "      <td>N</td>\n",
              "      <td>-73.951820</td>\n",
              "      <td>40.824413</td>\n",
              "      <td>2</td>\n",
              "      <td>9.5</td>\n",
              "      <td>0.5</td>\n",
              "      <td>0.5</td>\n",
              "      <td>0.00</td>\n",
              "      <td>0.0</td>\n",
              "      <td>0.3</td>\n",
              "      <td>10.80</td>\n",
              "    </tr>\n",
              "    <tr>\n",
              "      <th>3</th>\n",
              "      <td>1</td>\n",
              "      <td>2015-01-10 20:33:39</td>\n",
              "      <td>2015-01-10 20:35:31</td>\n",
              "      <td>1</td>\n",
              "      <td>0.50</td>\n",
              "      <td>-74.009087</td>\n",
              "      <td>40.713818</td>\n",
              "      <td>1</td>\n",
              "      <td>N</td>\n",
              "      <td>-74.004326</td>\n",
              "      <td>40.719986</td>\n",
              "      <td>2</td>\n",
              "      <td>3.5</td>\n",
              "      <td>0.5</td>\n",
              "      <td>0.5</td>\n",
              "      <td>0.00</td>\n",
              "      <td>0.0</td>\n",
              "      <td>0.3</td>\n",
              "      <td>4.80</td>\n",
              "    </tr>\n",
              "    <tr>\n",
              "      <th>4</th>\n",
              "      <td>1</td>\n",
              "      <td>2015-01-10 20:33:39</td>\n",
              "      <td>2015-01-10 20:52:58</td>\n",
              "      <td>1</td>\n",
              "      <td>3.00</td>\n",
              "      <td>-73.971176</td>\n",
              "      <td>40.762428</td>\n",
              "      <td>1</td>\n",
              "      <td>N</td>\n",
              "      <td>-74.004181</td>\n",
              "      <td>40.742653</td>\n",
              "      <td>2</td>\n",
              "      <td>15.0</td>\n",
              "      <td>0.5</td>\n",
              "      <td>0.5</td>\n",
              "      <td>0.00</td>\n",
              "      <td>0.0</td>\n",
              "      <td>0.3</td>\n",
              "      <td>16.30</td>\n",
              "    </tr>\n",
              "  </tbody>\n",
              "</table>\n",
              "</div>"
            ],
            "text/plain": [
              "   VendorID tpep_pickup_datetime  ... improvement_surcharge  total_amount\n",
              "0         2  2015-01-15 19:05:39  ...                   0.3         17.05\n",
              "1         1  2015-01-10 20:33:38  ...                   0.3         17.80\n",
              "2         1  2015-01-10 20:33:38  ...                   0.3         10.80\n",
              "3         1  2015-01-10 20:33:39  ...                   0.3          4.80\n",
              "4         1  2015-01-10 20:33:39  ...                   0.3         16.30\n",
              "\n",
              "[5 rows x 19 columns]"
            ]
          },
          "metadata": {
            "tags": []
          },
          "execution_count": 6
        }
      ]
    },
    {
      "cell_type": "markdown",
      "metadata": {
        "id": "RXJixlFGFX3u",
        "colab_type": "text"
      },
      "source": [
        "# 1: Exploratory Data Analysis"
      ]
    },
    {
      "cell_type": "markdown",
      "metadata": {
        "id": "-yNNFT6dFiQO",
        "colab_type": "text"
      },
      "source": [
        "##1.1 Work on latitude and longitude of New York *city*"
      ]
    },
    {
      "cell_type": "markdown",
      "metadata": {
        "id": "1o5WRmgFF58v",
        "colab_type": "text"
      },
      "source": [
        "new york city has latitude and longitude range as follows\n",
        "\n",
        "\n",
        "1.   min_lat  = 40.5774\n",
        "2.   max_lat  = 40.9176\n",
        "3.   min_long =  74.15\n",
        "4.   max_long = 73.7004\n",
        "\n",
        "    \"min_lat\": 40.4772,\n",
        "    \"max_lat\": 45.0153,\n",
        "    \"min_lng\": -79.7624,\n",
        "    \"max_lng\": -71.7517\n",
        "\n",
        "we will observe points beyond above values"
      ]
    },
    {
      "cell_type": "code",
      "metadata": {
        "id": "39l-KhXJ30cY",
        "colab_type": "code",
        "colab": {}
      },
      "source": [
        "## creating a variable with New York city map and outlier points having latitude and longitude more than NY city\n",
        "\n",
        "map_n = folium.Map(location = [40.730610, -73.935242])\n",
        "outlier_loc = month[((month['pickup_longitude'] <= -79.7624) | (month['pickup_latitude'] <= 40.4772) | \\\n",
        "                   (month['pickup_longitude'] >= -71.7517) | (month['pickup_latitude'] >= 45.0153))]"
      ],
      "execution_count": 0,
      "outputs": []
    },
    {
      "cell_type": "code",
      "metadata": {
        "id": "LA3Yp1Fd614g",
        "colab_type": "code",
        "outputId": "5599dd9b-ccab-4f3d-8c65-1c68afc6940e",
        "colab": {
          "base_uri": "https://localhost:8080/",
          "height": 71
        }
      },
      "source": [
        "sample_loc = outlier_loc.head(50000)\n"
      ],
      "execution_count": 8,
      "outputs": [
        {
          "output_type": "stream",
          "text": [
            "/usr/local/lib/python3.6/dist-packages/dask/dataframe/core.py:4553: UserWarning: Insufficient elements for `head`. 50000 elements requested, only 7892 elements available. Try passing larger `npartitions` to `head`.\n",
            "  warnings.warn(msg.format(n, len(r)))\n"
          ],
          "name": "stderr"
        }
      ]
    },
    {
      "cell_type": "code",
      "metadata": {
        "id": "R5YjiF7yAr1i",
        "colab_type": "code",
        "outputId": "d4b0f525-1c92-4bfa-cf5c-9a4ee68948f9",
        "colab": {
          "base_uri": "https://localhost:8080/",
          "height": 715
        }
      },
      "source": [
        "## deleting rows with 0 values of lat and long\n",
        "sample_loc = sample_loc[sample_loc['pickup_latitude']!= 0]\n",
        "\n",
        "\n",
        "## visualizing outliers with Marker\n",
        "for row, series in sample_loc.iterrows():\n",
        "    folium.Marker(list((series['pickup_latitude'], series['pickup_longitude']))).add_to(map_n)\n",
        "    \n",
        "map_n"
      ],
      "execution_count": 9,
      "outputs": [
        {
          "output_type": "execute_result",
          "data": {
            "text/html": [
              "<div style=\"width:100%;\"><div style=\"position:relative;width:100%;height:0;padding-bottom:60%;\"><iframe src=\"data:text/html;charset=utf-8;base64,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\" style=\"position:absolute;width:100%;height:100%;left:0;top:0;border:none !important;\" allowfullscreen webkitallowfullscreen mozallowfullscreen></iframe></div></div>"
            ],
            "text/plain": [
              "<folium.folium.Map at 0x7f879b306828>"
            ]
          },
          "metadata": {
            "tags": []
          },
          "execution_count": 9
        }
      ]
    },
    {
      "cell_type": "markdown",
      "metadata": {
        "id": "tpPorSxWI3GG",
        "colab_type": "text"
      },
      "source": [
        "### As you can see above that there are some points just outside the boundary but many of them point to either Mexico or Canada\n"
      ]
    },
    {
      "cell_type": "markdown",
      "metadata": {
        "id": "MhaByAr5JEC2",
        "colab_type": "text"
      },
      "source": [
        " ## 1.2: Making new data frame with pickup times, trip times and speed"
      ]
    },
    {
      "cell_type": "code",
      "metadata": {
        "id": "mwWAtzyrJC_2",
        "colab_type": "code",
        "colab": {}
      },
      "source": [
        "def convert_to_unix(s):\n",
        "    return time.mktime(datetime.datetime.strptime(s, \"%Y-%m-%d %H:%M:%S\").timetuple())"
      ],
      "execution_count": 0,
      "outputs": []
    },
    {
      "cell_type": "code",
      "metadata": {
        "id": "8TWcgXg4IxFs",
        "colab_type": "code",
        "colab": {}
      },
      "source": [
        "def return_with_times(month):\n",
        "    duration = month[['tpep_pickup_datetime', 'tpep_dropoff_datetime']].compute()\n",
        "    #pickup and drop_off to unix time\n",
        "    duration_pickup = [convert_to_unix(x) for x in duration['tpep_pickup_datetime'].values]\n",
        "    duration_drop   = [convert_to_unix(x) for x in duration['tpep_dropoff_datetime'].values]\n",
        "    #calculate duration of trips\n",
        "    durations = (np.array(duration_drop) - np.array(duration_pickup))/float(60)\n",
        "    \n",
        "    # making new data frame with new modded varaibles.\n",
        "    new_frame = month[['VendorID','payment_type','passenger_count','trip_distance','pickup_longitude','pickup_latitude','dropoff_longitude','dropoff_latitude','RateCodeID','store_and_fwd_flag','total_amount','tolls_amount']].compute()\n",
        "    new_frame['trip_times']   = durations\n",
        "    new_frame['pickup_times'] = duration_pickup\n",
        "    new_frame['speed']        = 60*(new_frame['trip_distance']/new_frame['trip_times'])\n",
        "    \n",
        "    return new_frame"
      ],
      "execution_count": 0,
      "outputs": []
    },
    {
      "cell_type": "code",
      "metadata": {
        "id": "Y0kt-IMVagJs",
        "colab_type": "code",
        "outputId": "b159f2a9-dff8-43b0-ac0d-c472b96cc4e7",
        "colab": {
          "base_uri": "https://localhost:8080/",
          "height": 136
        }
      },
      "source": [
        "month.columns"
      ],
      "execution_count": 12,
      "outputs": [
        {
          "output_type": "execute_result",
          "data": {
            "text/plain": [
              "Index(['VendorID', 'tpep_pickup_datetime', 'tpep_dropoff_datetime',\n",
              "       'passenger_count', 'trip_distance', 'pickup_longitude',\n",
              "       'pickup_latitude', 'RateCodeID', 'store_and_fwd_flag',\n",
              "       'dropoff_longitude', 'dropoff_latitude', 'payment_type', 'fare_amount',\n",
              "       'extra', 'mta_tax', 'tip_amount', 'tolls_amount',\n",
              "       'improvement_surcharge', 'total_amount'],\n",
              "      dtype='object')"
            ]
          },
          "metadata": {
            "tags": []
          },
          "execution_count": 12
        }
      ]
    },
    {
      "cell_type": "code",
      "metadata": {
        "id": "A7wTpXAdKEmo",
        "colab_type": "code",
        "colab": {}
      },
      "source": [
        "new_frame = return_with_times(month)"
      ],
      "execution_count": 0,
      "outputs": []
    },
    {
      "cell_type": "code",
      "metadata": {
        "id": "qE3LvoPRVfab",
        "colab_type": "code",
        "outputId": "5c3501a6-5f21-461c-d92d-334ef732b0e5",
        "colab": {
          "base_uri": "https://localhost:8080/",
          "height": 102
        }
      },
      "source": [
        "new_frame.columns"
      ],
      "execution_count": 14,
      "outputs": [
        {
          "output_type": "execute_result",
          "data": {
            "text/plain": [
              "Index(['VendorID', 'payment_type', 'passenger_count', 'trip_distance',\n",
              "       'pickup_longitude', 'pickup_latitude', 'dropoff_longitude',\n",
              "       'dropoff_latitude', 'RateCodeID', 'store_and_fwd_flag', 'total_amount',\n",
              "       'tolls_amount', 'trip_times', 'pickup_times', 'speed'],\n",
              "      dtype='object')"
            ]
          },
          "metadata": {
            "tags": []
          },
          "execution_count": 14
        }
      ]
    },
    {
      "cell_type": "markdown",
      "metadata": {
        "id": "fpifhw_xSYWI",
        "colab_type": "text"
      },
      "source": [
        "## 1.3: Inspecting number of pickups by each vendors by vendor id"
      ]
    },
    {
      "cell_type": "code",
      "metadata": {
        "id": "a9-EWCboSTkH",
        "colab_type": "code",
        "outputId": "ee1849d7-df08-4dc1-c1f7-cbb76022e3de",
        "colab": {
          "base_uri": "https://localhost:8080/",
          "height": 68
        }
      },
      "source": [
        "# get unique vendors\n",
        "\n",
        "vendor_unique = new_frame.VendorID.unique()\n",
        "vendors = []\n",
        "#get the number of trip for each vendor\n",
        "vendors.append(new_frame[new_frame['VendorID'] == 1].shape[0])\n",
        "vendors.append(new_frame[new_frame['VendorID'] == 2].shape[0])\n",
        "print('unique vendors: ', vendor_unique)\n",
        "print('Vendor 1 count: ', vendors[0])\n",
        "print('Vendor 2 count: ', vendors[1])"
      ],
      "execution_count": 15,
      "outputs": [
        {
          "output_type": "stream",
          "text": [
            "unique vendors:  [2 1]\n",
            "Vendor 1 count:  6101189\n",
            "Vendor 2 count:  6647797\n"
          ],
          "name": "stdout"
        }
      ]
    },
    {
      "cell_type": "code",
      "metadata": {
        "id": "_7X92N2yST6c",
        "colab_type": "code",
        "outputId": "41281611-a504-4e21-e6da-2ca6cb26715f",
        "colab": {
          "base_uri": "https://localhost:8080/",
          "height": 323
        }
      },
      "source": [
        "sns.set_style(\"whitegrid\")\n",
        "\n",
        "fig, ax = plt.subplots()\n",
        "fig.set_size_inches(12, 5)\n",
        "\n",
        "ax = sns.barplot(x = ['Vendor 1', 'Vendor 2'] , y = np.array(vendors))\n",
        "ax.set(ylabel='Pickups')\n",
        "plt.show()"
      ],
      "execution_count": 16,
      "outputs": [
        {
          "output_type": "display_data",
          "data": {
            "image/png": "[encoded data removed]",
            "text/plain": [
              "<Figure size 864x360 with 1 Axes>"
            ]
          },
          "metadata": {
            "tags": []
          }
        }
      ]
    },
    {
      "cell_type": "code",
      "metadata": {
        "id": "qxBi7TbESUfU",
        "colab_type": "code",
        "outputId": "6d6e6e45-7692-4337-e431-e2f5efe48181",
        "colab": {
          "base_uri": "https://localhost:8080/",
          "height": 34
        }
      },
      "source": [
        "print (\"Vendor 1:{} % Vendor 2 :{} % \".format(100*float(vendors[1])/sum(vendors),100*float(vendors[0])/sum(vendors)))"
      ],
      "execution_count": 17,
      "outputs": [
        {
          "output_type": "stream",
          "text": [
            "Vendor 1:52.14373127400093 % Vendor 2 :47.85626872599907 % \n"
          ],
          "name": "stdout"
        }
      ]
    },
    {
      "cell_type": "markdown",
      "metadata": {
        "id": "q7wOlZNYdSHK",
        "colab_type": "text"
      },
      "source": [
        "### Above analysis shows that both vendors share almost same number of pickups in JAN month"
      ]
    },
    {
      "cell_type": "markdown",
      "metadata": {
        "id": "VcU_tI5Iddxd",
        "colab_type": "text"
      },
      "source": [
        "## 1.4: Inspecting Passenger count variable"
      ]
    },
    {
      "cell_type": "code",
      "metadata": {
        "id": "2WDyXktXdbsD",
        "colab_type": "code",
        "outputId": "e5b14a19-512a-4a93-f76c-5392ba79fbac",
        "colab": {
          "base_uri": "https://localhost:8080/",
          "height": 51
        }
      },
      "source": [
        "passenger_count = []\n",
        "passenger_unique = set(new_frame['passenger_count'].values)\n",
        "\n",
        "for i in passenger_unique:\n",
        "  passenger_count.append(new_frame[new_frame['passenger_count'] == i].shape[0])\n",
        "  \n",
        "pass_count_pickups = [x for _,x in sorted(zip(passenger_unique,passenger_count))]\n",
        "pass_count = [int(y) for y,_ in sorted(zip(passenger_unique,passenger_count))]\n",
        "print (pass_count)\n",
        "print (pass_count_pickups)"
      ],
      "execution_count": 18,
      "outputs": [
        {
          "output_type": "stream",
          "text": [
            "[0, 1, 2, 3, 4, 5, 6, 7, 8, 9]\n",
            "[6565, 8993870, 1814594, 528486, 253228, 697645, 454568, 9, 10, 11]\n"
          ],
          "name": "stdout"
        }
      ]
    },
    {
      "cell_type": "code",
      "metadata": {
        "id": "aWEQbrDgdcYD",
        "colab_type": "code",
        "outputId": "5604ecf8-4693-4f1e-a76b-40b2c4bd7d24",
        "colab": {
          "base_uri": "https://localhost:8080/",
          "height": 345
        }
      },
      "source": [
        "sns.set_style(\"whitegrid\")\n",
        "\n",
        "fig, ax = plt.subplots()\n",
        "fig.set_size_inches(12, 5)\n",
        "\n",
        "ax = sns.barplot(x = np.array(pass_count) , y = np.array(pass_count_pickups))\n",
        "ax.set(ylabel='Pickups',xlabel = 'number of passengers')\n",
        "plt.show()"
      ],
      "execution_count": 19,
      "outputs": [
        {
          "output_type": "display_data",
          "data": {
            "image/png": "[encoded data removed]",
            "text/plain": [
              "<Figure size 864x360 with 1 Axes>"
            ]
          },
          "metadata": {
            "tags": []
          }
        }
      ]
    },
    {
      "cell_type": "code",
      "metadata": {
        "id": "YAd6D980enH8",
        "colab_type": "code",
        "outputId": "396bd066-78df-47e3-b83a-d8625da9f6ac",
        "colab": {
          "base_uri": "https://localhost:8080/",
          "height": 187
        }
      },
      "source": [
        "for a,b in zip(pass_count,pass_count_pickups):\n",
        "    print (\"Pickups for passenger count {} : {}% of total pickups\".format(int(a),round(float(b)*100/sum(pass_count_pickups),4)))"
      ],
      "execution_count": 20,
      "outputs": [
        {
          "output_type": "stream",
          "text": [
            "Pickups for passenger count 0 : 0.0515% of total pickups\n",
            "Pickups for passenger count 1 : 70.5458% of total pickups\n",
            "Pickups for passenger count 2 : 14.2332% of total pickups\n",
            "Pickups for passenger count 3 : 4.1453% of total pickups\n",
            "Pickups for passenger count 4 : 1.9863% of total pickups\n",
            "Pickups for passenger count 5 : 5.4722% of total pickups\n",
            "Pickups for passenger count 6 : 3.5655% of total pickups\n",
            "Pickups for passenger count 7 : 0.0001% of total pickups\n",
            "Pickups for passenger count 8 : 0.0001% of total pickups\n",
            "Pickups for passenger count 9 : 0.0001% of total pickups\n"
          ],
          "name": "stdout"
        }
      ]
    },
    {
      "cell_type": "markdown",
      "metadata": {
        "id": "aNc78dszlUdv",
        "colab_type": "text"
      },
      "source": [
        "### Inference from the passenger count:\n",
        "1. Majority of the trips seem to have 1 and 2 passengers.\n",
        "2. 0 passenger count maybe an error or some kind of goods delivery\n",
        "3. According to the TLC regulations 5 is the maximum number of passengers allowed in a yellow taxi\n",
        "  - Good amount of trips have more than 5 passengers - almost 45k of them\n",
        "  - Toddlers and children below age 7 are allowed to sit on laps\n",
        "  - Maybe the drivers take into account the toddlers too(But still 7 ,8 and 9 are ridiculous numbers for passenger counts)"
      ]
    },
    {
      "cell_type": "markdown",
      "metadata": {
        "id": "B_J4K4YfmKPN",
        "colab_type": "text"
      },
      "source": [
        "## 1.5: Analyzing Rate Code feature"
      ]
    },
    {
      "cell_type": "code",
      "metadata": {
        "id": "ib-ORh6pen2b",
        "colab_type": "code",
        "colab": {}
      },
      "source": [
        "## Rate Code:\n",
        "#1. Standard rate\n",
        "#2. JFK\n",
        "#3. Newark\n",
        "#4. Nassau or Westchester\n",
        "#5. Negotiated fare\n",
        "#6. Group ride\n",
        "# unique rate codes\n",
        "rate_code_unique = set(new_frame['RateCodeID'].values)"
      ],
      "execution_count": 0,
      "outputs": []
    },
    {
      "cell_type": "code",
      "metadata": {
        "id": "FWuvx3tInOO1",
        "colab_type": "code",
        "colab": {}
      },
      "source": [
        "##Unique rate codes\n",
        "rate_codes_uniq = set(new_frame['RateCodeID'].values)\n",
        "rate_count = []\n",
        "for i in rate_codes_uniq:\n",
        "    rate_count.append(new_frame[new_frame['RateCodeID'] == i].shape[0])\n",
        "#sort the pickups based on the rate codes\n",
        "rate_code_pickups = [x for _,x in sorted(zip(rate_codes_uniq,rate_count))]\n",
        "rate_code = [int(y) for y,_ in sorted(zip(rate_codes_uniq,rate_count))]\n",
        "Trips = ['Standard rates','JFK trips','Newark trips','Nassau/Westchester trips','Negotiated fare','Group rides','unknownrate code']\n"
      ],
      "execution_count": 0,
      "outputs": []
    },
    {
      "cell_type": "code",
      "metadata": {
        "id": "VqaFnOegnOx2",
        "colab_type": "code",
        "outputId": "95c6ee9a-125d-42a7-dd6d-5ae55553e0e0",
        "colab": {
          "base_uri": "https://localhost:8080/",
          "height": 345
        }
      },
      "source": [
        "sns.set_style(\"whitegrid\")\n",
        "\n",
        "fig, ax = plt.subplots()\n",
        "fig.set_size_inches(12, 5)\n",
        "\n",
        "ax = sns.barplot(x = np.array(Trips) , y = np.array(rate_code_pickups))\n",
        "ax.set(ylabel='Pickups',xlabel = 'Rate Code IDs')\n",
        "plt.show()"
      ],
      "execution_count": 23,
      "outputs": [
        {
          "output_type": "display_data",
          "data": {
            "image/png": "[encoded data removed]",
            "text/plain": [
              "<Figure size 864x360 with 1 Axes>"
            ]
          },
          "metadata": {
            "tags": []
          }
        }
      ]
    },
    {
      "cell_type": "code",
      "metadata": {
        "id": "U_QFC16xoI_h",
        "colab_type": "code",
        "outputId": "efbf293c-4cb9-43cb-c2b8-bf6ccef66cbb",
        "colab": {
          "base_uri": "https://localhost:8080/",
          "height": 136
        }
      },
      "source": [
        "for a,b in zip(Trips,rate_code_pickups):\n",
        "    print (\"Pickups for/with {} accounts {}% of total pickups\".format(a,round(float(b)*100/sum(rate_code_pickups),4)))"
      ],
      "execution_count": 24,
      "outputs": [
        {
          "output_type": "stream",
          "text": [
            "Pickups for/with Standard rates accounts 97.7717% of total pickups\n",
            "Pickups for/with JFK trips accounts 1.7627% of total pickups\n",
            "Pickups for/with Newark trips accounts 0.1388% of total pickups\n",
            "Pickups for/with Nassau/Westchester trips accounts 0.0324% of total pickups\n",
            "Pickups for/with Negotiated fare accounts 0.2894% of total pickups\n",
            "Pickups for/with Group rides accounts 0.0011% of total pickups\n",
            "Pickups for/with unknownrate code accounts 0.004% of total pickups\n"
          ],
          "name": "stdout"
        }
      ]
    },
    {
      "cell_type": "markdown",
      "metadata": {
        "id": "L53ZWJXVoPMd",
        "colab_type": "text"
      },
      "source": [
        "## Inference from Rate code:\n",
        "\n",
        "1. Standard rate - 12.4 Million trips\n",
        "2. JFK - 224.2k trips\n",
        "3. Newark - 17.7k trips\n",
        "4. Nassau or Westchester - 4.1k trips\n",
        "5. Negotiated fare - 36.8k trips\n",
        "6. Group ride - 134 trips\n",
        "7. rate code 99(mistake??) - 507 trips"
      ]
    },
    {
      "cell_type": "markdown",
      "metadata": {
        "id": "RVl7vwwtp4PT",
        "colab_type": "text"
      },
      "source": [
        "## 1.6: Analyzing Store and forward flag\n",
        "\n",
        "1.   List item\n",
        "2.   List item\n",
        "\n"
      ]
    },
    {
      "cell_type": "markdown",
      "metadata": {
        "id": "IA795dCetV5E",
        "colab_type": "text"
      },
      "source": [
        "Store_and_fwd_flag\n",
        "This flag indicates whether the trip record was held in vehicle memory before sending to the vendor,<br\\> aka “store and forward,” because the vehicle did not have a connection to the server.\n",
        "\t\tY= store and forward trip\n",
        "\t\tN= not a store and forward trip"
      ]
    },
    {
      "cell_type": "code",
      "metadata": {
        "id": "nQb2_KpQpx8I",
        "colab_type": "code",
        "outputId": "c81213a3-2a90-4a89-b41d-bdef753d0e85",
        "colab": {
          "base_uri": "https://localhost:8080/",
          "height": 51
        }
      },
      "source": [
        "SWflag_uniq = set(new_frame['store_and_fwd_flag'].values)\n",
        "SWflag_count = []\n",
        "for i in SWflag_uniq :\n",
        "    SWflag_count.append(new_frame[new_frame['store_and_fwd_flag'] == i].shape[0])\n",
        "print (SWflag_count)\n",
        "SWflag_uniq = list(SWflag_uniq)\n",
        "print (SWflag_uniq)"
      ],
      "execution_count": 25,
      "outputs": [
        {
          "output_type": "stream",
          "text": [
            "[115033, 12633953]\n",
            "['Y', 'N']\n"
          ],
          "name": "stdout"
        }
      ]
    },
    {
      "cell_type": "code",
      "metadata": {
        "id": "Ut880-MepycT",
        "colab_type": "code",
        "outputId": "bbe67529-6c4b-466f-e140-672ad0212781",
        "colab": {
          "base_uri": "https://localhost:8080/",
          "height": 51
        }
      },
      "source": [
        "for a,b in zip(SWflag_uniq,SWflag_count):\n",
        "    print (\"Pickups for/with store and forward = {} accounts {}% of total pickups\".format(a,round(float(b)*100/sum(SWflag_count),4)))"
      ],
      "execution_count": 26,
      "outputs": [
        {
          "output_type": "stream",
          "text": [
            "Pickups for/with store and forward = Y accounts 0.9023% of total pickups\n",
            "Pickups for/with store and forward = N accounts 99.0977% of total pickups\n"
          ],
          "name": "stdout"
        }
      ]
    },
    {
      "cell_type": "code",
      "metadata": {
        "id": "W6cJzdwKpy_C",
        "colab_type": "code",
        "outputId": "18e80de4-3845-493e-f90d-7a6e64a7fe47",
        "colab": {
          "base_uri": "https://localhost:8080/",
          "height": 346
        }
      },
      "source": [
        "sns.set_style(\"whitegrid\")\n",
        "\n",
        "fig, ax = plt.subplots()\n",
        "fig.set_size_inches(12, 5)\n",
        "\n",
        "ax = sns.barplot(x = np.array(SWflag_uniq) , y = np.array(SWflag_count))\n",
        "ax.set(ylabel='Pickups',xlabel = 'store_and_fwd_flag')\n",
        "plt.show()"
      ],
      "execution_count": 27,
      "outputs": [
        {
          "output_type": "display_data",
          "data": {
            "image/png": "[encoded data removed]",
            "text/plain": [
              "<Figure size 864x360 with 1 Axes>"
            ]
          },
          "metadata": {
            "tags": []
          }
        }
      ]
    },
    {
      "cell_type": "markdown",
      "metadata": {
        "id": "kwnibyp-Bhi8",
        "colab_type": "text"
      },
      "source": [
        "## 1.6: Analyzing Payment types"
      ]
    },
    {
      "cell_type": "markdown",
      "metadata": {
        "id": "-rmAypGZBtaQ",
        "colab_type": "text"
      },
      "source": [
        "Payment types are:\n",
        "1. Credit card\n",
        "2. Cash\n",
        "3. No charge.\n",
        "4. Disput\n",
        "5. Unknown\n",
        "6. Voided Trip"
      ]
    },
    {
      "cell_type": "code",
      "metadata": {
        "id": "F7TJj5-vBpjQ",
        "colab_type": "code",
        "outputId": "59a81267-edac-4f38-bb52-60d0ff8a4014",
        "colab": {
          "base_uri": "https://localhost:8080/",
          "height": 51
        }
      },
      "source": [
        "payment_uniq = set(new_frame['payment_type'].values)\n",
        "payment_count = []\n",
        "for i in payment_uniq :\n",
        "    payment_count.append(new_frame[new_frame['payment_type'] == i].shape[0])\n",
        "print (payment_count)\n",
        "payment_uniq = list(payment_uniq)\n",
        "print (payment_uniq)"
      ],
      "execution_count": 28,
      "outputs": [
        {
          "output_type": "stream",
          "text": [
            "[7881388, 4816992, 38632, 11972, 2]\n",
            "[1, 2, 3, 4, 5]\n"
          ],
          "name": "stdout"
        }
      ]
    },
    {
      "cell_type": "code",
      "metadata": {
        "id": "aYv5HH6RBqIX",
        "colab_type": "code",
        "outputId": "91ab2b3d-96b1-4f1b-9877-18e0401b9aa9",
        "colab": {
          "base_uri": "https://localhost:8080/",
          "height": 337
        }
      },
      "source": [
        "pay_pickups = [x for _,x in sorted(zip(payment_uniq,payment_count))]\n",
        "pay = [int(y) for y,_ in sorted(zip(payment_uniq,payment_count))]\n",
        "pay_type = ['Credit card','Cash','No charge','Dispute','Unknow']\n",
        "\n",
        "sns.set_style(\"whitegrid\")\n",
        "\n",
        "fig, ax = plt.subplots()\n",
        "fig.set_size_inches(12, 5)\n",
        "\n",
        "ax = sns.barplot(x = np.array(pay_type) , y = np.array(pay_pickups))\n",
        "ax.set(ylabel='Pickups',xlabel = 'payment types')\n",
        "plt.show()"
      ],
      "execution_count": 29,
      "outputs": [
        {
          "output_type": "display_data",
          "data": {
            "image/png": "[encoded data removed]",
            "text/plain": [
              "<Figure size 864x360 with 1 Axes>"
            ]
          },
          "metadata": {
            "tags": []
          }
        }
      ]
    },
    {
      "cell_type": "code",
      "metadata": {
        "id": "I-JzBjwnZem0",
        "colab_type": "code",
        "colab": {}
      },
      "source": [
        ""
      ],
      "execution_count": 0,
      "outputs": []
    },
    {
      "cell_type": "markdown",
      "metadata": {
        "id": "0o7N-QGsRtD4",
        "colab_type": "text"
      },
      "source": [
        "## 1.7: Analyzing Trip Times"
      ]
    },
    {
      "cell_type": "markdown",
      "metadata": {
        "id": "dLueY1ysRymt",
        "colab_type": "text"
      },
      "source": [
        "In NY maximum allowed trip duration in 24 hours is 12 hours means allowerd work hour for drivers is 12 hours and allowed time for 1 trip is also 12 hours\n"
      ]
    },
    {
      "cell_type": "code",
      "metadata": {
        "id": "8gqDAHN5KKRO",
        "colab_type": "code",
        "outputId": "2c944a81-1ba6-4064-bd87-2b22ded381cb",
        "colab": {
          "base_uri": "https://localhost:8080/",
          "height": 255
        }
      },
      "source": [
        "# plotting box plot for outlier checking\n",
        "sns.boxplot(y = 'trip_times', data = new_frame)\n",
        "plt.show()"
      ],
      "execution_count": 30,
      "outputs": [
        {
          "output_type": "display_data",
          "data": {
            "image/png": "[encoded data removed]",
            "text/plain": [
              "<Figure size 432x288 with 1 Axes>"
            ]
          },
          "metadata": {
            "tags": []
          }
        }
      ]
    },
    {
      "cell_type": "code",
      "metadata": {
        "id": "kpiHZGtCM97p",
        "colab_type": "code",
        "outputId": "34308f86-6e44-4eb8-a3a2-ca942dd45862",
        "colab": {
          "base_uri": "https://localhost:8080/",
          "height": 204
        }
      },
      "source": [
        "# calculating 0-100th percentile to find correct value of outliers\n",
        "for i in range(0,101,10):\n",
        "  var = new_frame[\"trip_times\"].values\n",
        "  var = np.sort(var, axis = None)\n",
        "  percentile_val = np.percentile(var, i)\n",
        "  print(i,\"th percentile value is: \",percentile_val)"
      ],
      "execution_count": 31,
      "outputs": [
        {
          "output_type": "stream",
          "text": [
            "0 th percentile value is:  -1211.0166666666667\n",
            "10 th percentile value is:  3.8333333333333335\n",
            "20 th percentile value is:  5.383333333333334\n",
            "30 th percentile value is:  6.816666666666666\n",
            "40 th percentile value is:  8.3\n",
            "50 th percentile value is:  9.95\n",
            "60 th percentile value is:  11.866666666666667\n",
            "70 th percentile value is:  14.283333333333333\n",
            "80 th percentile value is:  17.633333333333333\n",
            "90 th percentile value is:  23.45\n",
            "100 th percentile value is:  548555.6333333333\n"
          ],
          "name": "stdout"
        }
      ]
    },
    {
      "cell_type": "code",
      "metadata": {
        "id": "BDCI2yUrNAxE",
        "colab_type": "code",
        "outputId": "de8f7a8b-6cdb-4c7d-d6a7-a17947483288",
        "colab": {
          "base_uri": "https://localhost:8080/",
          "height": 204
        }
      },
      "source": [
        "# looking further from 90 percentile to 100th percentile\n",
        "for i in range(90, 100):\n",
        "  var = new_frame[\"trip_times\"].values\n",
        "  var = np.sort(var, axis = None)\n",
        "  percentile_val = np.percentile(var, i)\n",
        "  print(i,\"th percentile value is: \",percentile_val)\n",
        "print(\"100 percentile value is \", var[-1])"
      ],
      "execution_count": 32,
      "outputs": [
        {
          "output_type": "stream",
          "text": [
            "90 th percentile value is:  23.45\n",
            "91 th percentile value is:  24.35\n",
            "92 th percentile value is:  25.383333333333333\n",
            "93 th percentile value is:  26.55\n",
            "94 th percentile value is:  27.933333333333334\n",
            "95 th percentile value is:  29.583333333333332\n",
            "96 th percentile value is:  31.68333333333333\n",
            "97 th percentile value is:  34.46666666666667\n",
            "98 th percentile value is:  38.71666666666667\n",
            "99 th percentile value is:  46.75\n",
            "100 percentile value is  548555.6333333333\n"
          ],
          "name": "stdout"
        }
      ]
    },
    {
      "cell_type": "code",
      "metadata": {
        "id": "G7YP1JrDJNqj",
        "colab_type": "code",
        "outputId": "c8af8044-496b-477a-e3e3-956a08a868fd",
        "colab": {
          "base_uri": "https://localhost:8080/",
          "height": 204
        }
      },
      "source": [
        "#checking percentile value between 99th and 100th percentile\n",
        "for i in np.arange(0.0, 1.0, 0.1):\n",
        "  var = new_frame[\"trip_times\"].values\n",
        "  var = np.sort(var, axis = None)\n",
        "  percentile_val = np.percentile(var, i+99)\n",
        "  print(i+99,\"th percentile value is: \",percentile_val)\n",
        "  \n",
        "print(100,\"th percentile value  is: \",var[-1])"
      ],
      "execution_count": 33,
      "outputs": [
        {
          "output_type": "stream",
          "text": [
            "99.0 th percentile value is:  46.75\n",
            "99.1 th percentile value is:  48.06666666666667\n",
            "99.2 th percentile value is:  49.56666666666667\n",
            "99.3 th percentile value is:  51.28333333333333\n",
            "99.4 th percentile value is:  53.31666666666667\n",
            "99.5 th percentile value is:  55.833333333333336\n",
            "99.6 th percentile value is:  59.13333333333333\n",
            "99.7 th percentile value is:  63.9\n",
            "99.8 th percentile value is:  71.86666666666666\n",
            "99.9 th percentile value is:  101.6\n",
            "100 th percentile value  is:  548555.6333333333\n"
          ],
          "name": "stdout"
        }
      ]
    },
    {
      "cell_type": "code",
      "metadata": {
        "id": "osj95OrvNEm5",
        "colab_type": "code",
        "colab": {}
      },
      "source": [
        "# removing data bases on analysis and TLC regulations\n",
        "\n",
        "new_frame = new_frame[(new_frame.trip_times > 0) & (new_frame.trip_times < 720)]"
      ],
      "execution_count": 0,
      "outputs": []
    },
    {
      "cell_type": "code",
      "metadata": {
        "id": "_Y42i_BJNKQt",
        "colab_type": "code",
        "outputId": "bf334cd4-7f14-4f99-9270-76cbc9743575",
        "colab": {
          "base_uri": "https://localhost:8080/",
          "height": 272
        }
      },
      "source": [
        "sns.boxplot(y = 'trip_times', data = new_frame)"
      ],
      "execution_count": 35,
      "outputs": [
        {
          "output_type": "execute_result",
          "data": {
            "text/plain": [
              "<matplotlib.axes._subplots.AxesSubplot at 0x7f8799d28240>"
            ]
          },
          "metadata": {
            "tags": []
          },
          "execution_count": 35
        },
        {
          "output_type": "display_data",
          "data": {
            "image/png": "[encoded data removed]",
            "text/plain": [
              "<Figure size 432x288 with 1 Axes>"
            ]
          },
          "metadata": {
            "tags": []
          }
        }
      ]
    },
    {
      "cell_type": "code",
      "metadata": {
        "id": "ykoeRlgqNNNg",
        "colab_type": "code",
        "outputId": "38ce223c-2bae-410f-fe6a-023f76ec1a57",
        "colab": {
          "base_uri": "https://localhost:8080/",
          "height": 495
        }
      },
      "source": [
        "# pdf of trip_times after removing outliers\n",
        "sns.FacetGrid(new_frame , size = 6).map(sns.kdeplot, \"trip_times\").add_legend()\n",
        "plt.show()"
      ],
      "execution_count": 36,
      "outputs": [
        {
          "output_type": "stream",
          "text": [
            "/usr/local/lib/python3.6/dist-packages/seaborn/axisgrid.py:230: UserWarning: The `size` paramter has been renamed to `height`; please update your code.\n",
            "  warnings.warn(msg, UserWarning)\n"
          ],
          "name": "stderr"
        },
        {
          "output_type": "display_data",
          "data": {
            "image/png": "[encoded data removed]",
            "text/plain": [
              "<Figure size 517.875x432 with 1 Axes>"
            ]
          },
          "metadata": {
            "tags": []
          }
        }
      ]
    },
    {
      "cell_type": "code",
      "metadata": {
        "id": "Lvh-zDwlNgvP",
        "colab_type": "code",
        "colab": {}
      },
      "source": [
        "# convertig trip_time values to log form inorder to check log normal\n",
        "\n",
        "new_frame['log_times'] = np.log(new_frame['trip_times'])\n",
        "    "
      ],
      "execution_count": 0,
      "outputs": []
    },
    {
      "cell_type": "code",
      "metadata": {
        "id": "7s_2loiTNlMu",
        "colab_type": "code",
        "outputId": "e291cf30-d59e-4f5a-9b4b-96ff1b87358b",
        "colab": {
          "base_uri": "https://localhost:8080/",
          "height": 495
        }
      },
      "source": [
        "# pdf of trip_times after removing outliers\n",
        "sns.FacetGrid(new_frame , size = 6).map(sns.kdeplot, \"log_times\").add_legend()\n",
        "plt.show()"
      ],
      "execution_count": 38,
      "outputs": [
        {
          "output_type": "stream",
          "text": [
            "/usr/local/lib/python3.6/dist-packages/seaborn/axisgrid.py:230: UserWarning: The `size` paramter has been renamed to `height`; please update your code.\n",
            "  warnings.warn(msg, UserWarning)\n"
          ],
          "name": "stderr"
        },
        {
          "output_type": "display_data",
          "data": {
            "image/png": "[encoded data removed]",
            "text/plain": [
              "<Figure size 516x432 with 1 Axes>"
            ]
          },
          "metadata": {
            "tags": []
          }
        }
      ]
    },
    {
      "cell_type": "markdown",
      "metadata": {
        "id": "J1SmkgYHNs1E",
        "colab_type": "text"
      },
      "source": [
        "above plot shows that after taking log of trip times it resembles to normal distribution but not completly"
      ]
    },
    {
      "cell_type": "code",
      "metadata": {
        "id": "m4wLyoJeNp_n",
        "colab_type": "code",
        "outputId": "1af6cfc8-3d2a-4217-a5b9-cf97af1a699d",
        "colab": {
          "base_uri": "https://localhost:8080/",
          "height": 295
        }
      },
      "source": [
        "# Q-Q plot to check if trip_time is log_normal\n",
        "scipy.stats.probplot(new_frame['log_times'].values, plot = plt)\n",
        "plt.show()"
      ],
      "execution_count": 39,
      "outputs": [
        {
          "output_type": "display_data",
          "data": {
            "image/png": "[encoded data removed]",
            "text/plain": [
              "<Figure size 432x288 with 1 Axes>"
            ]
          },
          "metadata": {
            "tags": []
          }
        }
      ]
    },
    {
      "cell_type": "markdown",
      "metadata": {
        "id": "GG65_b-TPGK2",
        "colab_type": "text"
      },
      "source": [
        "so it seems that trip time behave as normal distribution from range of -2 to 4, from tails it does not resembles normal dist."
      ]
    },
    {
      "cell_type": "markdown",
      "metadata": {
        "id": "f2PaP2l8O8u2",
        "colab_type": "text"
      },
      "source": [
        " ## 1.8 Analyzing Speed"
      ]
    },
    {
      "cell_type": "code",
      "metadata": {
        "id": "utzp1YZlPLX5",
        "colab_type": "code",
        "outputId": "2488b288-7235-41cd-bf55-df8d4adf9a1e",
        "colab": {
          "base_uri": "https://localhost:8080/",
          "height": 263
        }
      },
      "source": [
        "# plotting speed feature to check outliers\n",
        "\n",
        "sns.boxplot(y = 'speed', data = new_frame)\n",
        "plt.show()"
      ],
      "execution_count": 40,
      "outputs": [
        {
          "output_type": "display_data",
          "data": {
            "image/png": "[encoded data removed]",
            "text/plain": [
              "<Figure size 432x288 with 1 Axes>"
            ]
          },
          "metadata": {
            "tags": []
          }
        }
      ]
    },
    {
      "cell_type": "code",
      "metadata": {
        "id": "uSHWOQPiPODU",
        "colab_type": "code",
        "outputId": "b36ee2f9-e1cd-4ddf-cd35-9ed8b4922478",
        "colab": {
          "base_uri": "https://localhost:8080/",
          "height": 204
        }
      },
      "source": [
        "# calculating speed value in each outlier\n",
        "for i in range(0,101,10):\n",
        "  var = new_frame[\"speed\"].values\n",
        "  var = np.sort(var, axis = None)\n",
        "  percentile_val = np.percentile(var, i)\n",
        "  print(i,\"th percentile value is: \",percentile_val)"
      ],
      "execution_count": 41,
      "outputs": [
        {
          "output_type": "stream",
          "text": [
            "0 th percentile value is:  0.0\n",
            "10 th percentile value is:  6.3458980044345905\n",
            "20 th percentile value is:  7.771217712177122\n",
            "30 th percentile value is:  8.902627511591964\n",
            "40 th percentile value is:  9.960474308300395\n",
            "50 th percentile value is:  11.052631578947368\n",
            "60 th percentile value is:  12.277087033747781\n",
            "70 th percentile value is:  13.793322734499206\n",
            "80 th percentile value is:  15.973509933774835\n",
            "90 th percentile value is:  20.233740635556018\n",
            "100 th percentile value is:  406256374.28571427\n"
          ],
          "name": "stdout"
        }
      ]
    },
    {
      "cell_type": "code",
      "metadata": {
        "id": "AMlONR1rPSSS",
        "colab_type": "code",
        "outputId": "11f1d481-6acf-4337-d730-ee82da6777c6",
        "colab": {
          "base_uri": "https://localhost:8080/",
          "height": 204
        }
      },
      "source": [
        "# calculating percentile value between 90th and 100th percentile\n",
        "for i in range(90,101):\n",
        "  var = new_frame[\"speed\"].values\n",
        "  var = np.sort(var, axis = None)\n",
        "  percentile_val = np.percentile(var, i)\n",
        "  print(i,\"th percentile value is: \",percentile_val)"
      ],
      "execution_count": 42,
      "outputs": [
        {
          "output_type": "stream",
          "text": [
            "90 th percentile value is:  20.233740635556018\n",
            "91 th percentile value is:  20.97087378640777\n",
            "92 th percentile value is:  21.81818181818182\n",
            "93 th percentile value is:  22.790152403282534\n",
            "94 th percentile value is:  23.927492447129907\n",
            "95 th percentile value is:  25.277206444638658\n",
            "96 th percentile value is:  26.922888616891065\n",
            "97 th percentile value is:  28.99192245557351\n",
            "98 th percentile value is:  31.811487481590575\n",
            "99 th percentile value is:  36.12428650973351\n",
            "100 th percentile value is:  406256374.28571427\n"
          ],
          "name": "stdout"
        }
      ]
    },
    {
      "cell_type": "code",
      "metadata": {
        "id": "sgZof1YGPVoM",
        "colab_type": "code",
        "outputId": "d93120ee-a5cb-4b77-a211-d8e91740c41f",
        "colab": {
          "base_uri": "https://localhost:8080/",
          "height": 204
        }
      },
      "source": [
        "#checking percentile value between 99th and 100th percentile\n",
        "for i in np.arange(0.0, 1.0, 0.1):\n",
        "  var = new_frame[\"speed\"].values\n",
        "  var = np.sort(var, axis = None)\n",
        "  percentile_val = np.percentile(var, i+99)\n",
        "  print(i+99,\"th percentile value is: \",percentile_val)\n",
        "  \n",
        "print(100,\"th percentile value  is: \",var[-1])"
      ],
      "execution_count": 43,
      "outputs": [
        {
          "output_type": "stream",
          "text": [
            "99.0 th percentile value is:  36.12428650973351\n",
            "99.1 th percentile value is:  36.71641791044775\n",
            "99.2 th percentile value is:  37.370600856535546\n",
            "99.3 th percentile value is:  38.09372215739944\n",
            "99.4 th percentile value is:  38.90800972326104\n",
            "99.5 th percentile value is:  39.84\n",
            "99.6 th percentile value is:  40.95531083826694\n",
            "99.7 th percentile value is:  42.352941176470594\n",
            "99.8 th percentile value is:  44.4\n",
            "99.9 th percentile value is:  49.44450477126318\n",
            "100 th percentile value  is:  406256374.28571427\n"
          ],
          "name": "stdout"
        }
      ]
    },
    {
      "cell_type": "code",
      "metadata": {
        "id": "vAuVwUEHPXo_",
        "colab_type": "code",
        "colab": {}
      },
      "source": [
        "# removing outliers from speed \n",
        "\n",
        "new_frame = new_frame[(new_frame.speed < 45.31) & (new_frame.speed > 0)]"
      ],
      "execution_count": 0,
      "outputs": []
    },
    {
      "cell_type": "code",
      "metadata": {
        "id": "jgpyJY-mPgCV",
        "colab_type": "code",
        "outputId": "3c320cfc-1c06-40c8-a383-b9cae9bacb04",
        "colab": {
          "base_uri": "https://localhost:8080/",
          "height": 255
        }
      },
      "source": [
        "sns.boxplot(y = 'speed', data = new_frame)\n",
        "plt.show()"
      ],
      "execution_count": 45,
      "outputs": [
        {
          "output_type": "display_data",
          "data": {
            "image/png": "[encoded data removed]",
            "text/plain": [
              "<Figure size 432x288 with 1 Axes>"
            ]
          },
          "metadata": {
            "tags": []
          }
        }
      ]
    },
    {
      "cell_type": "code",
      "metadata": {
        "id": "bZMTqIpzPiBW",
        "colab_type": "code",
        "outputId": "67e0a55d-642d-4c6d-e4e6-0c6ff38d53b9",
        "colab": {
          "base_uri": "https://localhost:8080/",
          "height": 34
        }
      },
      "source": [
        "print('mean speed is found to be ', new_frame['speed'].mean())"
      ],
      "execution_count": 46,
      "outputs": [
        {
          "output_type": "stream",
          "text": [
            "mean speed is found to be  12.458636437076578\n"
          ],
          "name": "stdout"
        }
      ]
    },
    {
      "cell_type": "markdown",
      "metadata": {
        "id": "eBeOFiwWPwm9",
        "colab_type": "text"
      },
      "source": [
        " ## 1.9 Analyzing trip distance"
      ]
    },
    {
      "cell_type": "code",
      "metadata": {
        "id": "pktMT4gqPm9I",
        "colab_type": "code",
        "outputId": "93ae2a89-2839-418d-a3ba-2f48b2734548",
        "colab": {
          "base_uri": "https://localhost:8080/",
          "height": 255
        }
      },
      "source": [
        "# plotting speed feature to check outliers\n",
        "\n",
        "sns.boxplot(y = 'trip_distance', data = new_frame)\n",
        "plt.show()"
      ],
      "execution_count": 47,
      "outputs": [
        {
          "output_type": "display_data",
          "data": {
            "image/png": "[encoded data removed]",
            "text/plain": [
              "<Figure size 432x288 with 1 Axes>"
            ]
          },
          "metadata": {
            "tags": []
          }
        }
      ]
    },
    {
      "cell_type": "code",
      "metadata": {
        "id": "CwOEmMt8P1qw",
        "colab_type": "code",
        "outputId": "e5535b8c-f37c-4cae-e88f-411d2ba4d9fa",
        "colab": {
          "base_uri": "https://localhost:8080/",
          "height": 204
        }
      },
      "source": [
        "for i in range(0,101,10):\n",
        "  var = new_frame[\"trip_distance\"].values\n",
        "  var = np.sort(var, axis = None)\n",
        "  percentile_val = np.percentile(var, i)\n",
        "  print(i,\"th percentile value is: \",percentile_val)"
      ],
      "execution_count": 48,
      "outputs": [
        {
          "output_type": "stream",
          "text": [
            "0 th percentile value is:  0.01\n",
            "10 th percentile value is:  0.66\n",
            "20 th percentile value is:  0.9000000000000001\n",
            "30 th percentile value is:  1.1\n",
            "40 th percentile value is:  1.39\n",
            "50 th percentile value is:  1.69\n",
            "60 th percentile value is:  2.07\n",
            "70 th percentile value is:  2.6\n",
            "80 th percentile value is:  3.6\n",
            "90 th percentile value is:  5.96\n",
            "100 th percentile value is:  258.9\n"
          ],
          "name": "stdout"
        }
      ]
    },
    {
      "cell_type": "code",
      "metadata": {
        "id": "VuT2-FxcP3hk",
        "colab_type": "code",
        "outputId": "bb6d80bb-e21f-40c8-ac0b-a732e50aa241",
        "colab": {
          "base_uri": "https://localhost:8080/",
          "height": 204
        }
      },
      "source": [
        "for i in range(90,101):\n",
        "  var = new_frame[\"trip_distance\"].values\n",
        "  var = np.sort(var, axis = None)\n",
        "  percentile_val = np.percentile(var, i)\n",
        "  print(i,\"th percentile value is: \",percentile_val)"
      ],
      "execution_count": 49,
      "outputs": [
        {
          "output_type": "stream",
          "text": [
            "90 th percentile value is:  5.96\n",
            "91 th percentile value is:  6.45\n",
            "92 th percentile value is:  7.07\n",
            "93 th percentile value is:  7.84\n",
            "94 th percentile value is:  8.72\n",
            "95 th percentile value is:  9.6\n",
            "96 th percentile value is:  10.6\n",
            "97 th percentile value is:  12.1\n",
            "98 th percentile value is:  16.03\n",
            "99 th percentile value is:  18.17\n",
            "100 th percentile value is:  258.9\n"
          ],
          "name": "stdout"
        }
      ]
    },
    {
      "cell_type": "code",
      "metadata": {
        "id": "TuJ2S5KGP5nH",
        "colab_type": "code",
        "outputId": "c595a457-b637-48ad-e05d-db7bdab839ee",
        "colab": {
          "base_uri": "https://localhost:8080/",
          "height": 204
        }
      },
      "source": [
        "for i in np.arange(0.0, 1.0, 0.1):\n",
        "  var = new_frame[\"trip_distance\"].values\n",
        "  var = np.sort(var, axis = None)\n",
        "  percentile_val = np.percentile(var, i+99)\n",
        "  print(i+99,\"th percentile value is: \",percentile_val)\n",
        "  \n",
        "print(100,\"th percentile value  is: \",var[-1])"
      ],
      "execution_count": 50,
      "outputs": [
        {
          "output_type": "stream",
          "text": [
            "99.0 th percentile value is:  18.17\n",
            "99.1 th percentile value is:  18.36\n",
            "99.2 th percentile value is:  18.6\n",
            "99.3 th percentile value is:  18.83\n",
            "99.4 th percentile value is:  19.13\n",
            "99.5 th percentile value is:  19.5\n",
            "99.6 th percentile value is:  19.96\n",
            "99.7 th percentile value is:  20.5\n",
            "99.8 th percentile value is:  21.22\n",
            "99.9 th percentile value is:  22.57\n",
            "100 th percentile value  is:  258.9\n"
          ],
          "name": "stdout"
        }
      ]
    },
    {
      "cell_type": "code",
      "metadata": {
        "id": "KZf_uTurP7bc",
        "colab_type": "code",
        "colab": {}
      },
      "source": [
        "new_frame = new_frame[(new_frame.trip_distance >0) & (new_frame.trip_distance<23)]"
      ],
      "execution_count": 0,
      "outputs": []
    },
    {
      "cell_type": "code",
      "metadata": {
        "id": "2LO_J8QaP-jE",
        "colab_type": "code",
        "outputId": "38e0fc1b-565e-42fe-f054-1edb2bd158fd",
        "colab": {
          "base_uri": "https://localhost:8080/",
          "height": 255
        }
      },
      "source": [
        "sns.boxplot(y = \"trip_distance\", data= new_frame)\n",
        "plt.show()"
      ],
      "execution_count": 52,
      "outputs": [
        {
          "output_type": "display_data",
          "data": {
            "image/png": "[encoded data removed]",
            "text/plain": [
              "<Figure size 432x288 with 1 Axes>"
            ]
          },
          "metadata": {
            "tags": []
          }
        }
      ]
    },
    {
      "cell_type": "code",
      "metadata": {
        "id": "3r-FSqKBSk-_",
        "colab_type": "code",
        "colab": {}
      },
      "source": [
        ""
      ],
      "execution_count": 0,
      "outputs": []
    },
    {
      "cell_type": "markdown",
      "metadata": {
        "id": "pSpxwiMNQS5O",
        "colab_type": "text"
      },
      "source": [
        " ## 1.10 Analyzing Fare"
      ]
    },
    {
      "cell_type": "code",
      "metadata": {
        "id": "pUCCwFBVSu2T",
        "colab_type": "code",
        "outputId": "97d3054b-c564-4915-ebd0-805e24a40a06",
        "colab": {
          "base_uri": "https://localhost:8080/",
          "height": 136
        }
      },
      "source": [
        "month.columns"
      ],
      "execution_count": 53,
      "outputs": [
        {
          "output_type": "execute_result",
          "data": {
            "text/plain": [
              "Index(['VendorID', 'tpep_pickup_datetime', 'tpep_dropoff_datetime',\n",
              "       'passenger_count', 'trip_distance', 'pickup_longitude',\n",
              "       'pickup_latitude', 'RateCodeID', 'store_and_fwd_flag',\n",
              "       'dropoff_longitude', 'dropoff_latitude', 'payment_type', 'fare_amount',\n",
              "       'extra', 'mta_tax', 'tip_amount', 'tolls_amount',\n",
              "       'improvement_surcharge', 'total_amount'],\n",
              "      dtype='object')"
            ]
          },
          "metadata": {
            "tags": []
          },
          "execution_count": 53
        }
      ]
    },
    {
      "cell_type": "code",
      "metadata": {
        "id": "ZY2Zn2-gQBd5",
        "colab_type": "code",
        "outputId": "bfd2a174-fed3-4939-ce9c-e0f065ed8890",
        "colab": {
          "base_uri": "https://localhost:8080/",
          "height": 255
        }
      },
      "source": [
        "sns.boxplot(y = 'total_amount', data = new_frame)\n",
        "plt.show()"
      ],
      "execution_count": 54,
      "outputs": [
        {
          "output_type": "display_data",
          "data": {
            "image/png": "[encoded data removed]",
            "text/plain": [
              "<Figure size 432x288 with 1 Axes>"
            ]
          },
          "metadata": {
            "tags": []
          }
        }
      ]
    },
    {
      "cell_type": "code",
      "metadata": {
        "id": "yjTbblYWQYE4",
        "colab_type": "code",
        "outputId": "c155c828-532e-4af9-ba16-40bd6eb965ad",
        "colab": {
          "base_uri": "https://localhost:8080/",
          "height": 204
        }
      },
      "source": [
        "for i in range(0,101,10):\n",
        "  var = new_frame[\"total_amount\"].values\n",
        "  var = np.sort(var, axis = None)\n",
        "  percentile_val = np.percentile(var, i)\n",
        "  print(i,\"th percentile value is: \",percentile_val)"
      ],
      "execution_count": 55,
      "outputs": [
        {
          "output_type": "stream",
          "text": [
            "0 th percentile value is:  -242.55\n",
            "10 th percentile value is:  6.35\n",
            "20 th percentile value is:  7.799999999999999\n",
            "30 th percentile value is:  8.8\n",
            "40 th percentile value is:  9.8\n",
            "50 th percentile value is:  11.16\n",
            "60 th percentile value is:  12.8\n",
            "70 th percentile value is:  14.8\n",
            "80 th percentile value is:  18.3\n",
            "90 th percentile value is:  25.8\n",
            "100 th percentile value is:  3950611.6\n"
          ],
          "name": "stdout"
        }
      ]
    },
    {
      "cell_type": "code",
      "metadata": {
        "id": "-n-wIEwsQaqa",
        "colab_type": "code",
        "outputId": "e67c5d6c-bfcd-4320-8442-c1fea79b1cd0",
        "colab": {
          "base_uri": "https://localhost:8080/",
          "height": 204
        }
      },
      "source": [
        "\n",
        "for i in range(90,101):\n",
        "  var = new_frame[\"total_amount\"].values\n",
        "  var = np.sort(var, axis = None)\n",
        "  percentile_val = np.percentile(var, i)\n",
        "  print(i,\"th percentile value is: \",percentile_val)"
      ],
      "execution_count": 56,
      "outputs": [
        {
          "output_type": "stream",
          "text": [
            "90 th percentile value is:  25.8\n",
            "91 th percentile value is:  27.3\n",
            "92 th percentile value is:  29.12\n",
            "93 th percentile value is:  31.55\n",
            "94 th percentile value is:  34.63\n",
            "95 th percentile value is:  38.15\n",
            "96 th percentile value is:  42.13\n",
            "97 th percentile value is:  47.56\n",
            "98 th percentile value is:  57.76\n",
            "99 th percentile value is:  65.93\n",
            "100 th percentile value is:  3950611.6\n"
          ],
          "name": "stdout"
        }
      ]
    },
    {
      "cell_type": "code",
      "metadata": {
        "id": "dxQ7PPs8QdKp",
        "colab_type": "code",
        "outputId": "95f47141-a623-4d21-ab63-acbf0d0ba21c",
        "colab": {
          "base_uri": "https://localhost:8080/",
          "height": 204
        }
      },
      "source": [
        "for i in np.arange(0.0, 1.0, 0.1):\n",
        "  var = new_frame[\"total_amount\"].values\n",
        "  var = np.sort(var, axis = None)\n",
        "  percentile_val = np.percentile(var, i+99)\n",
        "  print(i+99,\"th percentile value is: \",percentile_val)\n",
        "  \n",
        "print(100,\"th percentile value  is: \",var[-1])"
      ],
      "execution_count": 57,
      "outputs": [
        {
          "output_type": "stream",
          "text": [
            "99.0 th percentile value is:  65.93\n",
            "99.1 th percentile value is:  67.8\n",
            "99.2 th percentile value is:  69.06\n",
            "99.3 th percentile value is:  69.6\n",
            "99.4 th percentile value is:  69.73\n",
            "99.5 th percentile value is:  69.73\n",
            "99.6 th percentile value is:  69.76\n",
            "99.7 th percentile value is:  72.46\n",
            "99.8 th percentile value is:  75.3\n",
            "99.9 th percentile value is:  87.0\n",
            "100 th percentile value  is:  3950611.6\n"
          ],
          "name": "stdout"
        }
      ]
    },
    {
      "cell_type": "code",
      "metadata": {
        "id": "DiosPiCbQnCy",
        "colab_type": "code",
        "colab": {}
      },
      "source": [
        "new_frame = new_frame[(new_frame.total_amount <1000) & (new_frame.total_amount >0)]"
      ],
      "execution_count": 0,
      "outputs": []
    },
    {
      "cell_type": "code",
      "metadata": {
        "id": "q-8qanTOQqDR",
        "colab_type": "code",
        "colab": {}
      },
      "source": [
        "# removing drop off and pickup outliers\n",
        "new_frame = new_frame[((new_frame.dropoff_longitude >= -74.15) & (new_frame.dropoff_longitude <= -73.7004) &\\\n",
        "                       (new_frame.dropoff_latitude >= 40.5774) & (new_frame.dropoff_latitude <= 40.9176)) & \\\n",
        "                       ((new_frame.pickup_longitude >= -74.15) & (new_frame.pickup_latitude >= 40.5774)& \\\n",
        "                       (new_frame.pickup_longitude <= -73.7004) & (new_frame.pickup_latitude <= 40.9176))]"
      ],
      "execution_count": 0,
      "outputs": []
    },
    {
      "cell_type": "code",
      "metadata": {
        "id": "Z8rtHCNGQsRK",
        "colab_type": "code",
        "outputId": "eb3a9bc9-66ef-4853-8eb8-08b831f99f15",
        "colab": {
          "base_uri": "https://localhost:8080/",
          "height": 34
        }
      },
      "source": [
        "print(float(len(new_frame)/len(month)))"
      ],
      "execution_count": 63,
      "outputs": [
        {
          "output_type": "stream",
          "text": [
            "0.9703576425607495\n"
          ],
          "name": "stdout"
        }
      ]
    },
    {
      "cell_type": "markdown",
      "metadata": {
        "id": "jEvFO_0vIPfq",
        "colab_type": "text"
      },
      "source": [
        "# 2.0: DATA PREPERATION"
      ]
    },
    {
      "cell_type": "markdown",
      "metadata": {
        "id": "LFmGOMmrIfJZ",
        "colab_type": "text"
      },
      "source": [
        "Businesss problem we are solving is to predict number of pickups using Region and time bin. early we cleaned the data and removed all outliers, now we need to preprocess data inorder to solve our problem. in this case there are 2 preprocessing stages. \n",
        "\n",
        "\n",
        "1.   Breaking whole NewYork into segments/clusters.\n",
        "2.   Breaking time into 10 min bins.\n",
        "\n",
        "here we will work on 1st stage for that we will use K means clustering to cluster whole data into segments. here we need to see two important things that is driver takes 10 mins to complete 2 miles i.e. inter cluster distance is 2 miles. and cluster size should not be very small so minimum intercluster distance should not exceed 0.5 miles (just an assumption.)\n",
        "\n"
      ]
    },
    {
      "cell_type": "markdown",
      "metadata": {
        "id": "90FJvUyGIk6n",
        "colab_type": "text"
      },
      "source": [
        "## 2.1: Clustering/Segmentation"
      ]
    },
    {
      "cell_type": "code",
      "metadata": {
        "id": "U26sPy-dINxO",
        "colab_type": "code",
        "colab": {}
      },
      "source": [
        "coords = new_frame[['pickup_latitude', 'pickup_longitude']].values\n",
        "def find_clusters(i):\n",
        "\n",
        "  kmeans = MiniBatchKMeans(n_clusters = i, batch_size = 10000, random_state = 42).fit(coords)\n",
        "  new_frame['pickup_cluster'] = kmeans.predict(new_frame[['pickup_latitude','pickup_longitude']])\n",
        "  cluster_centers = kmeans.cluster_centers_\n",
        "  cluster_len     = len(cluster_centers)\n",
        "  return cluster_centers, cluster_len"
      ],
      "execution_count": 0,
      "outputs": []
    },
    {
      "cell_type": "code",
      "metadata": {
        "id": "Xhok7maXNZcn",
        "colab_type": "code",
        "colab": {}
      },
      "source": [
        ""
      ],
      "execution_count": 0,
      "outputs": []
    },
    {
      "cell_type": "code",
      "metadata": {
        "id": "OK0_1WeoH3Ur",
        "colab_type": "code",
        "colab": {}
      },
      "source": [
        "def find_min_distance(cluster_centers, cluster_len):\n",
        "  min_dist = 1000\n",
        "  for i in range(0, cluster_len):\n",
        "    for j in range(0, cluster_len):\n",
        "      if j!=i:\n",
        "        distance = gpxpy.geo.haversine_distance(cluster_centers[i][0], cluster_centers[i][1], cluster_centers[j][0], cluster_centers[j][1])\n",
        "        min_dist = min(min_dist, distance/(1.60934*1000) )\n",
        "  print(\"on choosing a cluster size of \",cluster_len,\"\\nMin inter cluster distance is:\", min_dist)"
      ],
      "execution_count": 0,
      "outputs": []
    },
    {
      "cell_type": "code",
      "metadata": {
        "id": "meZ7b6wz71CY",
        "colab_type": "code",
        "colab": {
          "base_uri": "https://localhost:8080/",
          "height": 105
        },
        "outputId": "69e8b9ca-29b6-46a4-da11-bd4bfbf94ce3"
      },
      "source": [
        "cluster_centers, cluster_len = find_clusters(10)\n",
        "find_min_distance(cluster_centers, cluster_len)\n"
      ],
      "execution_count": 74,
      "outputs": [
        {
          "output_type": "stream",
          "text": [
            "on choosing a cluster size of  10 \n",
            "Min inter cluster distance is: 14.713997677585942\n"
          ],
          "name": "stdout"
        },
        {
          "output_type": "stream",
          "text": [
            "/usr/local/lib/python3.6/dist-packages/geopy/point.py:180: UserWarning: A single number has been passed to the Point constructor. This is probably a mistake, because constructing a Point with just a latitude seems senseless. If this is exactly what was meant, then pass the zero longitude explicitly to get rid of this warning.\n",
            "  UserWarning)\n"
          ],
          "name": "stderr"
        }
      ]
    },
    {
      "cell_type": "code",
      "metadata": {
        "id": "mzuXyxzUIxBZ",
        "colab_type": "code",
        "outputId": "1e8e2646-1437-4c58-d990-45bb79755e44",
        "colab": {
          "base_uri": "https://localhost:8080/",
          "height": 323
        }
      },
      "source": [
        "for i in range(10,100,10):\n",
        "  cluster_centers, cluster_len = find_clusters(i)\n",
        "  find_min_distance(cluster_centers, cluster_len)"
      ],
      "execution_count": 76,
      "outputs": [
        {
          "output_type": "stream",
          "text": [
            "on choosing a cluster size of  10 \n",
            "Min inter cluster distance is: 1.0945442325142543\n",
            "on choosing a cluster size of  20 \n",
            "Min inter cluster distance is: 0.7131298007387813\n",
            "on choosing a cluster size of  30 \n",
            "Min inter cluster distance is: 0.5185088176172206\n",
            "on choosing a cluster size of  40 \n",
            "Min inter cluster distance is: 0.5069768450363973\n",
            "on choosing a cluster size of  50 \n",
            "Min inter cluster distance is: 0.365363025983595\n",
            "on choosing a cluster size of  60 \n",
            "Min inter cluster distance is: 0.34704283494187155\n",
            "on choosing a cluster size of  70 \n",
            "Min inter cluster distance is: 0.30502203163244707\n",
            "on choosing a cluster size of  80 \n",
            "Min inter cluster distance is: 0.29220324531738534\n",
            "on choosing a cluster size of  90 \n",
            "Min inter cluster distance is: 0.18257992857034985\n"
          ],
          "name": "stdout"
        }
      ]
    },
    {
      "cell_type": "markdown",
      "metadata": {
        "id": "61KYcjeyMAFg",
        "colab_type": "text"
      },
      "source": [
        "from above we can infer that minimum distance between 40 and 50 clusters is very large. we will take 40 clusters for our future work"
      ]
    },
    {
      "cell_type": "code",
      "metadata": {
        "id": "MGh6AisgK_5A",
        "colab_type": "code",
        "colab": {}
      },
      "source": [
        "# making 40 clusters\n",
        "kmeans = MiniBatchKMeans(n_clusters = 40, batch_size = 10000, random_state = 0).fit(coords)\n",
        "new_frame['pickup_clusters'] = kmeans.predict(new_frame[['pickup_latitude','pickup_longitude']])\n",
        "new_frame['dropoff_clusters'] = kmeans.predict(new_frame[['dropoff_latitude','dropoff_longitude']])"
      ],
      "execution_count": 0,
      "outputs": []
    },
    {
      "cell_type": "markdown",
      "metadata": {
        "id": "MrQ8XHeRNAhc",
        "colab_type": "text"
      },
      "source": [
        "## 2.2: Work on pickups per day"
      ]
    },
    {
      "cell_type": "code",
      "metadata": {
        "id": "wnc77lCG_0QQ",
        "colab_type": "code",
        "colab": {}
      },
      "source": [
        "def pickup_per_day():\n",
        "  time = month[['tpep_pickup_datetime', 'tpep_dropoff_datetime']].compute()\n",
        "  time['tpep_pickup_datetime'] = pd.to_datetime(time['tpep_pickup_datetime'])  ## convert to date time\n",
        "  time['pickup_day'] = time['tpep_pickup_datetime'].dt.strftime('%u').astype(int)     ## extract day from date\n",
        "  time['pickup_hour'] = time['tpep_pickup_datetime'].dt.strftime('%H').astype(int)    ## extract hour from date\n",
        "  set(time['pickup_day'].values)\n",
        "  ### making empty lists for pickups\n",
        "  day_pickups       = []\n",
        "  afternoon_pickups = []\n",
        "  night_pickups     = []\n",
        "  mid_night_pickups  = []\n",
        "  \n",
        "  for i in range(1,8):\n",
        "    day_pickups.append(time[(time.pickup_day == i) & (time.pickup_hour >= 6) & (time.pickup_hour < 12)].shape[0])\n",
        "    night_pickups.append(time[(time.pickup_day == i) & (time.pickup_hour >= 18) & (time.pickup_hour <= 23)].shape[0])\n",
        "    mid_night_pickups.append(time[(time.pickup_day == i) & (time.pickup_hour >= 0) & (time.pickup_hour < 6)].shape[0])\n",
        "    afternoon_pickups.append(time[(time.pickup_day == i) & (time.pickup_hour >= 12) & (time.pickup_hour < 18)].shape[0])\n",
        "\n",
        "  days =pd.DataFrame({'morning':day_pickups, 'afternoon':afternoon_pickups, 'night':night_pickups, 'midnight':mid_night_pickups})\n",
        "  \n",
        "  ## plotting\n",
        "  days.plot(kind='bar', stacked=True,figsize=(4.5, 4.5))\n",
        "  plt.xlabel('Days of the week')\n",
        "  plt.ylabel('Number of pickups')\n",
        "  plt.tick_params(axis='both', which='minor')\n",
        "  plt.plot()\n",
        "  days = ['Monday','Tuesday','Wednesday','Thursday','Friday','Saturday','Sunday']\n",
        "  for i in range(0,len(days)):\n",
        "    print (\"{} -  morning:{} , day:{} , mid-day:{} night:{}\".format(days[i],mid_night_pickups[i],day_pickups[i],afternoon_pickups[i],night_pickups[i]))\n",
        "  \n",
        "  return time\n",
        "    \n",
        "  \n"
      ],
      "execution_count": 0,
      "outputs": []
    },
    {
      "cell_type": "code",
      "metadata": {
        "id": "drMQ2kZvQsym",
        "colab_type": "code",
        "outputId": "9e5e1f8c-cb31-434e-b5db-d8b5c5e23951",
        "colab": {
          "base_uri": "https://localhost:8080/",
          "height": 426
        }
      },
      "source": [
        "times_of_day = pickup_per_day()"
      ],
      "execution_count": 84,
      "outputs": [
        {
          "output_type": "stream",
          "text": [
            "Monday -  morning:108576 , day:408179 , mid-day:434850 night:381266\n",
            "Tuesday -  morning:76339 , day:372232 , mid-day:415968 night:509383\n",
            "Wednesday -  morning:104280 , day:481818 , mid-day:488264 night:609625\n",
            "Thursday -  morning:260968 , day:545611 , mid-day:606775 night:754859\n",
            "Friday -  morning:200685 , day:547113 , mid-day:629661 night:849728\n",
            "Saturday -  morning:433710 , day:399576 , mid-day:724563 night:821859\n",
            "Sunday -  morning:377923 , day:276211 , mid-day:525948 night:403016\n"
          ],
          "name": "stdout"
        },
        {
          "output_type": "display_data",
          "data": {
            "image/png": "[encoded data removed]",
            "text/plain": [
              "<Figure size 324x324 with 1 Axes>"
            ]
          },
          "metadata": {
            "tags": []
          }
        }
      ]
    },
    {
      "cell_type": "markdown",
      "metadata": {
        "id": "6roNLT93lQgv",
        "colab_type": "text"
      },
      "source": [
        "1. saturday seems to be busiest day for the taxi driver overall.\n",
        "2. most midnight commutes happens on saturday.\n",
        "3. friday night commutes are higher as compared to saturday  night commutes."
      ]
    },
    {
      "cell_type": "markdown",
      "metadata": {
        "id": "W0keyhzLmg8A",
        "colab_type": "text"
      },
      "source": [
        "## 2.3: Work on pickup for every hour"
      ]
    },
    {
      "cell_type": "code",
      "metadata": {
        "id": "RcuyHJXbN2Pt",
        "colab_type": "code",
        "colab": {}
      },
      "source": [
        "def pickup_in_hour(dframe):\n",
        "  hour_pickups = []\n",
        "  temp = []\n",
        "  \n",
        "  for i in range(1,8):\n",
        "    for j in range(0,24):\n",
        "      temp.append(dframe[(dframe.pickup_day == i) & (dframe.pickup_hour == j)].shape[0])\n",
        "    hour_pickups.append(temp)\n",
        "    temp = []\n",
        "  color = ['blue', 'orange', 'brown', 'coral', 'magenta', 'green', 'fuchsia']\n",
        "  days = ['Monday', 'Tuesday', \"wednesday\", 'Thursday', 'Friday', 'Saturday', 'Sunday']\n",
        "                  \n",
        "  plt.figure(figsize =(8,4))\n",
        "  hours_list = [s for s in range(0,24)]\n",
        "  for k in range(0,7):\n",
        "    plt.plot(hours_list, hour_pickups[k], color[k], label = days[k])\n",
        "    plt.plot(hours_list, hour_pickups[k], 'ro', markersize = 2)\n",
        "  plt.xticks([s for s in range(0,24)])\n",
        "  plt.xlabel('Hours of a day')\n",
        "  plt.ylabel('Number of pickups')\n",
        "  plt.title('Pickups for every hour')\n",
        "  plt.legend()\n",
        "  plt.grid(True)\n",
        "  plt.show()\n",
        "    "
      ],
      "execution_count": 0,
      "outputs": []
    },
    {
      "cell_type": "code",
      "metadata": {
        "id": "SI_oaYb7Oud6",
        "colab_type": "code",
        "outputId": "2d469b15-78a1-431b-89f4-8bbd50d46b81",
        "colab": {
          "base_uri": "https://localhost:8080/",
          "height": 295
        }
      },
      "source": [
        "pickup_in_hour(times_of_day)"
      ],
      "execution_count": 86,
      "outputs": [
        {
          "output_type": "display_data",
          "data": {
            "image/png": "[encoded data removed]",
            "text/plain": [
              "<Figure size 576x288 with 1 Axes>"
            ]
          },
          "metadata": {
            "tags": []
          }
        }
      ]
    },
    {
      "cell_type": "markdown",
      "metadata": {
        "id": "Gagd9TI9qsnd",
        "colab_type": "text"
      },
      "source": [
        "## 2.4: Pickup for every hour for whole month"
      ]
    },
    {
      "cell_type": "code",
      "metadata": {
        "id": "NNRXD9HFPS8P",
        "colab_type": "code",
        "outputId": "b93da791-4dc2-4a26-9993-0abe647f04c1",
        "colab": {
          "base_uri": "https://localhost:8080/",
          "height": 295
        }
      },
      "source": [
        "def pickup_in_hour_month(dframe):\n",
        "  hour_pickups_month = []\n",
        "  \n",
        "  for j in range(0,24):\n",
        "      hour_pickups_month.append(dframe[dframe.pickup_hour == j].shape[0])\n",
        "                  \n",
        "  plt.figure(figsize =(8,4))\n",
        "  hours_list = [s for s in range(0,24)]\n",
        "  plt.plot(hours_list, hour_pickups_month, 'magenta', label = 'average pickups per hour')\n",
        "  plt.plot(hours_list, hour_pickups_month, 'ro', markersize = 2)\n",
        "  plt.xticks([s for s in range(0,24)])\n",
        "  plt.xlabel('Hours of a day')\n",
        "  plt.ylabel('Number of pickups')\n",
        "  plt.title('Pickup for every hour for whole month')\n",
        "  plt.legend()\n",
        "  plt.grid(True)\n",
        "  plt.show()\n",
        "\n",
        "pickup_in_hour_month(times_of_day)\n",
        "\n"
      ],
      "execution_count": 87,
      "outputs": [
        {
          "output_type": "display_data",
          "data": {
            "image/png": "[encoded data removed]",
            "text/plain": [
              "<Figure size 576x288 with 1 Axes>"
            ]
          },
          "metadata": {
            "tags": []
          }
        }
      ]
    },
    {
      "cell_type": "code",
      "metadata": {
        "id": "x6Bar-Nyrq6-",
        "colab_type": "code",
        "colab": {}
      },
      "source": [
        "### function to remove outliers\n",
        "def convert_to_unix(s):\n",
        "    return time.mktime(datetime.datetime.strptime(s, \"%Y-%m-%d %H:%M:%S\").timetuple())\n",
        "\n",
        "def remove_outliers(new_frame):\n",
        "\n",
        "    a = new_frame.shape[0]\n",
        "    print(\"Number of pickup records = \", a)\n",
        "    temp_frame = new_frame[((new_frame.dropoff_longitude >= -74.15) & (new_frame.dropoff_longitude <= -73.7004) &\\\n",
        "                       (new_frame.dropoff_latitude >= 40.5774) & (new_frame.dropoff_latitude <= 40.9176)) & \\\n",
        "                       ((new_frame.pickup_longitude >= -74.15) & (new_frame.pickup_latitude >= 40.5774)& \\\n",
        "                       (new_frame.pickup_longitude <= -73.7004) & (new_frame.pickup_latitude <= 40.9176))]\n",
        "\n",
        "    b = temp_frame.shape[0]\n",
        "    print(\"number of outlier coordinates lying outside NY boundries = \",(a-b))\n",
        "    \n",
        "    temp_frame = new_frame[(new_frame.trip_times > 0) & (new_frame.trip_times < 720)]\n",
        "    c = temp_frame.shape[0]\n",
        "    print(\"number of outlier from trip times analysis = \",(a-c))\n",
        "    \n",
        "    temp_frame = new_frame[(new_frame.trip_distance > 0) & (new_frame.trip_distance < 23)]    \n",
        "    d = new_frame.shape[0]\n",
        "    print(\"number of outlier from trip distance analysis = \",(a-d))\n",
        "    \n",
        "    new_frame['Speed'] = 60*(new_frame['trip_distance']/new_frame['trip_times'])\n",
        "    temp_frame = new_frame[(new_frame.Speed <= 65) & (new_frame.Speed >= 0)]\n",
        "    e = temp_frame.shape[0]\n",
        "    print(\"number of outlier from trip speed analysis = \",(a-e))\n",
        "    \n",
        "    temp_frame = new_frame[(new_frame.total_amount < 1000) & (new_frame.total_amount > 0)]\n",
        "    f = temp_frame.shape[0]\n",
        "    print(\"number of outliers from fare analysis = \", (a-f))\n",
        "    \n",
        "    \n",
        "    new_frame = new_frame[((new_frame.dropoff_longitude >= -74.15) & (new_frame.dropoff_longitude <= -73.7004) &\\\n",
        "                       (new_frame.dropoff_latitude >= 40.5774) & (new_frame.dropoff_latitude <= 40.9176)) & \\\n",
        "                       ((new_frame.pickup_longitude >= -74.15) & (new_frame.pickup_latitude >= 40.5774)& \\\n",
        "                       (new_frame.pickup_longitude <= -73.7004) & (new_frame.pickup_latitude <= 40.9176))] \n",
        "    new_frame = new_frame[(new_frame.trip_times > 0) & (new_frame.trip_times < 720)]\n",
        "    new_frame = new_frame[(new_frame.trip_distance > 0) & (new_frame.trip_distance < 23)]\n",
        "    new_frame = new_frame[(new_frame.Speed <= 65) & (new_frame.Speed >= 0)]\n",
        "    new_frame = new_frame[(new_frame.total_amount <= 65) & (new_frame.total_amount >= 0)]\n",
        "\n",
        "    print(\"Total outliers removed\", a - new_frame.shape[0])\n",
        "    print(\"---\")\n",
        "  \n",
        "    return new_frame\n",
        "  \n"
      ],
      "execution_count": 0,
      "outputs": []
    },
    {
      "cell_type": "markdown",
      "metadata": {
        "id": "jHiLi7B0DS3U",
        "colab_type": "text"
      },
      "source": [
        "## 2.5: Time binning\n",
        "\n",
        "after making clusters next step is to make 10 mins time bins. "
      ]
    },
    {
      "cell_type": "code",
      "metadata": {
        "id": "zXk51CChDQ5W",
        "colab_type": "code",
        "colab": {}
      },
      "source": [
        "def add_pickup_bins(frame,month,year):\n",
        "    unix_pickup_times=[i for i in frame['pickup_times'].values]\n",
        "    unix_times = [[1420070400,1422748800,1425168000,1427846400,1430438400,1433116800],\\\n",
        "                    [1451606400,1454284800,1456790400,1459468800,1462060800,1464739200]]\n",
        "    \n",
        "    start_pickup_unix=unix_times[year-2015][month-1]\n",
        "    # https://www.timeanddate.com/time/zones/est\n",
        "    # (int((i-start_pickup_unix)/600)+33) : our unix time is in gmt to we are converting it to est\n",
        "    tenminutewise_binned_unix_pickup_times=[(int((i-start_pickup_unix)/600)+33) for i in unix_pickup_times]\n",
        "    frame['pickup_bins'] = np.array(tenminutewise_binned_unix_pickup_times)\n",
        "    return frame"
      ],
      "execution_count": 0,
      "outputs": []
    },
    {
      "cell_type": "code",
      "metadata": {
        "id": "7sQ6QQVMlUIb",
        "colab_type": "code",
        "colab": {}
      },
      "source": [
        "new_frame['pickup_cluster'] = kmeans.predict(new_frame[['pickup_latitude', 'pickup_longitude']])\n",
        "jan_2015_frame = add_pickup_bins(new_frame,1,2015)\n",
        "jan_2015_groupby = jan_2015_frame[['pickup_cluster','pickup_bins','trip_distance']].groupby(['pickup_cluster','pickup_bins']).count()"
      ],
      "execution_count": 0,
      "outputs": []
    },
    {
      "cell_type": "code",
      "metadata": {
        "id": "oB21q0hKDUf8",
        "colab_type": "code",
        "colab": {
          "base_uri": "https://localhost:8080/",
          "height": 224
        },
        "outputId": "cdbb0f3d-6d55-4980-f9b2-7dacc0085d1a"
      },
      "source": [
        "jan_2015_frame.head()"
      ],
      "execution_count": 137,
      "outputs": [
        {
          "output_type": "execute_result",
          "data": {
            "text/html": [
              "<div>\n",
              "<style scoped>\n",
              "    .dataframe tbody tr th:only-of-type {\n",
              "        vertical-align: middle;\n",
              "    }\n",
              "\n",
              "    .dataframe tbody tr th {\n",
              "        vertical-align: top;\n",
              "    }\n",
              "\n",
              "    .dataframe thead th {\n",
              "        text-align: right;\n",
              "    }\n",
              "</style>\n",
              "<table border=\"1\" class=\"dataframe\">\n",
              "  <thead>\n",
              "    <tr style=\"text-align: right;\">\n",
              "      <th></th>\n",
              "      <th>VendorID</th>\n",
              "      <th>payment_type</th>\n",
              "      <th>passenger_count</th>\n",
              "      <th>trip_distance</th>\n",
              "      <th>pickup_longitude</th>\n",
              "      <th>pickup_latitude</th>\n",
              "      <th>dropoff_longitude</th>\n",
              "      <th>dropoff_latitude</th>\n",
              "      <th>RateCodeID</th>\n",
              "      <th>store_and_fwd_flag</th>\n",
              "      <th>total_amount</th>\n",
              "      <th>tolls_amount</th>\n",
              "      <th>trip_times</th>\n",
              "      <th>pickup_times</th>\n",
              "      <th>speed</th>\n",
              "      <th>log_times</th>\n",
              "      <th>pickup_cluster</th>\n",
              "      <th>pickup_clusters</th>\n",
              "      <th>dropoff_clusters</th>\n",
              "      <th>pickup_bins</th>\n",
              "    </tr>\n",
              "  </thead>\n",
              "  <tbody>\n",
              "    <tr>\n",
              "      <th>0</th>\n",
              "      <td>2</td>\n",
              "      <td>1</td>\n",
              "      <td>1</td>\n",
              "      <td>1.59</td>\n",
              "      <td>-73.993896</td>\n",
              "      <td>40.750111</td>\n",
              "      <td>-73.974785</td>\n",
              "      <td>40.750618</td>\n",
              "      <td>1</td>\n",
              "      <td>N</td>\n",
              "      <td>17.05</td>\n",
              "      <td>0.0</td>\n",
              "      <td>18.050000</td>\n",
              "      <td>1.421349e+09</td>\n",
              "      <td>5.285319</td>\n",
              "      <td>2.893146</td>\n",
              "      <td>34</td>\n",
              "      <td>34</td>\n",
              "      <td>21</td>\n",
              "      <td>2163</td>\n",
              "    </tr>\n",
              "    <tr>\n",
              "      <th>1</th>\n",
              "      <td>1</td>\n",
              "      <td>1</td>\n",
              "      <td>1</td>\n",
              "      <td>3.30</td>\n",
              "      <td>-74.001648</td>\n",
              "      <td>40.724243</td>\n",
              "      <td>-73.994415</td>\n",
              "      <td>40.759109</td>\n",
              "      <td>1</td>\n",
              "      <td>N</td>\n",
              "      <td>17.80</td>\n",
              "      <td>0.0</td>\n",
              "      <td>19.833333</td>\n",
              "      <td>1.420922e+09</td>\n",
              "      <td>9.983193</td>\n",
              "      <td>2.987364</td>\n",
              "      <td>2</td>\n",
              "      <td>2</td>\n",
              "      <td>11</td>\n",
              "      <td>1452</td>\n",
              "    </tr>\n",
              "    <tr>\n",
              "      <th>2</th>\n",
              "      <td>1</td>\n",
              "      <td>2</td>\n",
              "      <td>1</td>\n",
              "      <td>1.80</td>\n",
              "      <td>-73.963341</td>\n",
              "      <td>40.802788</td>\n",
              "      <td>-73.951820</td>\n",
              "      <td>40.824413</td>\n",
              "      <td>1</td>\n",
              "      <td>N</td>\n",
              "      <td>10.80</td>\n",
              "      <td>0.0</td>\n",
              "      <td>10.050000</td>\n",
              "      <td>1.420922e+09</td>\n",
              "      <td>10.746269</td>\n",
              "      <td>2.307573</td>\n",
              "      <td>16</td>\n",
              "      <td>16</td>\n",
              "      <td>14</td>\n",
              "      <td>1452</td>\n",
              "    </tr>\n",
              "    <tr>\n",
              "      <th>3</th>\n",
              "      <td>1</td>\n",
              "      <td>2</td>\n",
              "      <td>1</td>\n",
              "      <td>0.50</td>\n",
              "      <td>-74.009087</td>\n",
              "      <td>40.713818</td>\n",
              "      <td>-74.004326</td>\n",
              "      <td>40.719986</td>\n",
              "      <td>1</td>\n",
              "      <td>N</td>\n",
              "      <td>4.80</td>\n",
              "      <td>0.0</td>\n",
              "      <td>1.866667</td>\n",
              "      <td>1.420922e+09</td>\n",
              "      <td>16.071429</td>\n",
              "      <td>0.624154</td>\n",
              "      <td>38</td>\n",
              "      <td>38</td>\n",
              "      <td>38</td>\n",
              "      <td>1452</td>\n",
              "    </tr>\n",
              "    <tr>\n",
              "      <th>4</th>\n",
              "      <td>1</td>\n",
              "      <td>2</td>\n",
              "      <td>1</td>\n",
              "      <td>3.00</td>\n",
              "      <td>-73.971176</td>\n",
              "      <td>40.762428</td>\n",
              "      <td>-74.004181</td>\n",
              "      <td>40.742653</td>\n",
              "      <td>1</td>\n",
              "      <td>N</td>\n",
              "      <td>16.30</td>\n",
              "      <td>0.0</td>\n",
              "      <td>19.316667</td>\n",
              "      <td>1.420922e+09</td>\n",
              "      <td>9.318378</td>\n",
              "      <td>2.960968</td>\n",
              "      <td>22</td>\n",
              "      <td>22</td>\n",
              "      <td>33</td>\n",
              "      <td>1452</td>\n",
              "    </tr>\n",
              "  </tbody>\n",
              "</table>\n",
              "</div>"
            ],
            "text/plain": [
              "   VendorID  payment_type  ...  dropoff_clusters  pickup_bins\n",
              "0         2             1  ...                21         2163\n",
              "1         1             1  ...                11         1452\n",
              "2         1             2  ...                14         1452\n",
              "3         1             2  ...                38         1452\n",
              "4         1             2  ...                33         1452\n",
              "\n",
              "[5 rows x 20 columns]"
            ]
          },
          "metadata": {
            "tags": []
          },
          "execution_count": 137
        }
      ]
    },
    {
      "cell_type": "code",
      "metadata": {
        "id": "RySArHTPsewA",
        "colab_type": "code",
        "outputId": "401f802a-9f72-4b74-e587-deb4d5283264",
        "colab": {
          "base_uri": "https://localhost:8080/",
          "height": 1000
        }
      },
      "source": [
        "jan_2015_groupby"
      ],
      "execution_count": 138,
      "outputs": [
        {
          "output_type": "execute_result",
          "data": {
            "text/html": [
              "<div>\n",
              "<style scoped>\n",
              "    .dataframe tbody tr th:only-of-type {\n",
              "        vertical-align: middle;\n",
              "    }\n",
              "\n",
              "    .dataframe tbody tr th {\n",
              "        vertical-align: top;\n",
              "    }\n",
              "\n",
              "    .dataframe thead th {\n",
              "        text-align: right;\n",
              "    }\n",
              "</style>\n",
              "<table border=\"1\" class=\"dataframe\">\n",
              "  <thead>\n",
              "    <tr style=\"text-align: right;\">\n",
              "      <th></th>\n",
              "      <th></th>\n",
              "      <th>trip_distance</th>\n",
              "    </tr>\n",
              "    <tr>\n",
              "      <th>pickup_cluster</th>\n",
              "      <th>pickup_bins</th>\n",
              "      <th></th>\n",
              "    </tr>\n",
              "  </thead>\n",
              "  <tbody>\n",
              "    <tr>\n",
              "      <th rowspan=\"30\" valign=\"top\">0</th>\n",
              "      <th>33</th>\n",
              "      <td>104</td>\n",
              "    </tr>\n",
              "    <tr>\n",
              "      <th>34</th>\n",
              "      <td>200</td>\n",
              "    </tr>\n",
              "    <tr>\n",
              "      <th>35</th>\n",
              "      <td>208</td>\n",
              "    </tr>\n",
              "    <tr>\n",
              "      <th>36</th>\n",
              "      <td>141</td>\n",
              "    </tr>\n",
              "    <tr>\n",
              "      <th>37</th>\n",
              "      <td>155</td>\n",
              "    </tr>\n",
              "    <tr>\n",
              "      <th>38</th>\n",
              "      <td>139</td>\n",
              "    </tr>\n",
              "    <tr>\n",
              "      <th>39</th>\n",
              "      <td>181</td>\n",
              "    </tr>\n",
              "    <tr>\n",
              "      <th>40</th>\n",
              "      <td>166</td>\n",
              "    </tr>\n",
              "    <tr>\n",
              "      <th>41</th>\n",
              "      <td>167</td>\n",
              "    </tr>\n",
              "    <tr>\n",
              "      <th>42</th>\n",
              "      <td>160</td>\n",
              "    </tr>\n",
              "    <tr>\n",
              "      <th>43</th>\n",
              "      <td>154</td>\n",
              "    </tr>\n",
              "    <tr>\n",
              "      <th>44</th>\n",
              "      <td>167</td>\n",
              "    </tr>\n",
              "    <tr>\n",
              "      <th>45</th>\n",
              "      <td>118</td>\n",
              "    </tr>\n",
              "    <tr>\n",
              "      <th>46</th>\n",
              "      <td>137</td>\n",
              "    </tr>\n",
              "    <tr>\n",
              "      <th>47</th>\n",
              "      <td>134</td>\n",
              "    </tr>\n",
              "    <tr>\n",
              "      <th>48</th>\n",
              "      <td>145</td>\n",
              "    </tr>\n",
              "    <tr>\n",
              "      <th>49</th>\n",
              "      <td>150</td>\n",
              "    </tr>\n",
              "    <tr>\n",
              "      <th>50</th>\n",
              "      <td>136</td>\n",
              "    </tr>\n",
              "    <tr>\n",
              "      <th>51</th>\n",
              "      <td>94</td>\n",
              "    </tr>\n",
              "    <tr>\n",
              "      <th>52</th>\n",
              "      <td>108</td>\n",
              "    </tr>\n",
              "    <tr>\n",
              "      <th>53</th>\n",
              "      <td>89</td>\n",
              "    </tr>\n",
              "    <tr>\n",
              "      <th>54</th>\n",
              "      <td>78</td>\n",
              "    </tr>\n",
              "    <tr>\n",
              "      <th>55</th>\n",
              "      <td>73</td>\n",
              "    </tr>\n",
              "    <tr>\n",
              "      <th>56</th>\n",
              "      <td>54</td>\n",
              "    </tr>\n",
              "    <tr>\n",
              "      <th>57</th>\n",
              "      <td>54</td>\n",
              "    </tr>\n",
              "    <tr>\n",
              "      <th>58</th>\n",
              "      <td>47</td>\n",
              "    </tr>\n",
              "    <tr>\n",
              "      <th>59</th>\n",
              "      <td>35</td>\n",
              "    </tr>\n",
              "    <tr>\n",
              "      <th>60</th>\n",
              "      <td>27</td>\n",
              "    </tr>\n",
              "    <tr>\n",
              "      <th>61</th>\n",
              "      <td>32</td>\n",
              "    </tr>\n",
              "    <tr>\n",
              "      <th>62</th>\n",
              "      <td>25</td>\n",
              "    </tr>\n",
              "    <tr>\n",
              "      <th>...</th>\n",
              "      <th>...</th>\n",
              "      <td>...</td>\n",
              "    </tr>\n",
              "    <tr>\n",
              "      <th rowspan=\"30\" valign=\"top\">39</th>\n",
              "      <th>4467</th>\n",
              "      <td>191</td>\n",
              "    </tr>\n",
              "    <tr>\n",
              "      <th>4468</th>\n",
              "      <td>189</td>\n",
              "    </tr>\n",
              "    <tr>\n",
              "      <th>4469</th>\n",
              "      <td>193</td>\n",
              "    </tr>\n",
              "    <tr>\n",
              "      <th>4470</th>\n",
              "      <td>184</td>\n",
              "    </tr>\n",
              "    <tr>\n",
              "      <th>4471</th>\n",
              "      <td>201</td>\n",
              "    </tr>\n",
              "    <tr>\n",
              "      <th>4472</th>\n",
              "      <td>217</td>\n",
              "    </tr>\n",
              "    <tr>\n",
              "      <th>4473</th>\n",
              "      <td>182</td>\n",
              "    </tr>\n",
              "    <tr>\n",
              "      <th>4474</th>\n",
              "      <td>200</td>\n",
              "    </tr>\n",
              "    <tr>\n",
              "      <th>4475</th>\n",
              "      <td>195</td>\n",
              "    </tr>\n",
              "    <tr>\n",
              "      <th>4476</th>\n",
              "      <td>178</td>\n",
              "    </tr>\n",
              "    <tr>\n",
              "      <th>4477</th>\n",
              "      <td>192</td>\n",
              "    </tr>\n",
              "    <tr>\n",
              "      <th>4478</th>\n",
              "      <td>176</td>\n",
              "    </tr>\n",
              "    <tr>\n",
              "      <th>4479</th>\n",
              "      <td>174</td>\n",
              "    </tr>\n",
              "    <tr>\n",
              "      <th>4480</th>\n",
              "      <td>178</td>\n",
              "    </tr>\n",
              "    <tr>\n",
              "      <th>4481</th>\n",
              "      <td>179</td>\n",
              "    </tr>\n",
              "    <tr>\n",
              "      <th>4482</th>\n",
              "      <td>178</td>\n",
              "    </tr>\n",
              "    <tr>\n",
              "      <th>4483</th>\n",
              "      <td>177</td>\n",
              "    </tr>\n",
              "    <tr>\n",
              "      <th>4484</th>\n",
              "      <td>169</td>\n",
              "    </tr>\n",
              "    <tr>\n",
              "      <th>4485</th>\n",
              "      <td>185</td>\n",
              "    </tr>\n",
              "    <tr>\n",
              "      <th>4486</th>\n",
              "      <td>202</td>\n",
              "    </tr>\n",
              "    <tr>\n",
              "      <th>4487</th>\n",
              "      <td>182</td>\n",
              "    </tr>\n",
              "    <tr>\n",
              "      <th>4488</th>\n",
              "      <td>171</td>\n",
              "    </tr>\n",
              "    <tr>\n",
              "      <th>4489</th>\n",
              "      <td>185</td>\n",
              "    </tr>\n",
              "    <tr>\n",
              "      <th>4490</th>\n",
              "      <td>186</td>\n",
              "    </tr>\n",
              "    <tr>\n",
              "      <th>4491</th>\n",
              "      <td>145</td>\n",
              "    </tr>\n",
              "    <tr>\n",
              "      <th>4492</th>\n",
              "      <td>154</td>\n",
              "    </tr>\n",
              "    <tr>\n",
              "      <th>4493</th>\n",
              "      <td>178</td>\n",
              "    </tr>\n",
              "    <tr>\n",
              "      <th>4494</th>\n",
              "      <td>154</td>\n",
              "    </tr>\n",
              "    <tr>\n",
              "      <th>4495</th>\n",
              "      <td>157</td>\n",
              "    </tr>\n",
              "    <tr>\n",
              "      <th>4496</th>\n",
              "      <td>156</td>\n",
              "    </tr>\n",
              "  </tbody>\n",
              "</table>\n",
              "<p>170398 rows × 1 columns</p>\n",
              "</div>"
            ],
            "text/plain": [
              "                            trip_distance\n",
              "pickup_cluster pickup_bins               \n",
              "0              33                     104\n",
              "               34                     200\n",
              "               35                     208\n",
              "               36                     141\n",
              "               37                     155\n",
              "               38                     139\n",
              "               39                     181\n",
              "               40                     166\n",
              "               41                     167\n",
              "               42                     160\n",
              "               43                     154\n",
              "               44                     167\n",
              "               45                     118\n",
              "               46                     137\n",
              "               47                     134\n",
              "               48                     145\n",
              "               49                     150\n",
              "               50                     136\n",
              "               51                      94\n",
              "               52                     108\n",
              "               53                      89\n",
              "               54                      78\n",
              "               55                      73\n",
              "               56                      54\n",
              "               57                      54\n",
              "               58                      47\n",
              "               59                      35\n",
              "               60                      27\n",
              "               61                      32\n",
              "               62                      25\n",
              "...                                   ...\n",
              "39             4467                   191\n",
              "               4468                   189\n",
              "               4469                   193\n",
              "               4470                   184\n",
              "               4471                   201\n",
              "               4472                   217\n",
              "               4473                   182\n",
              "               4474                   200\n",
              "               4475                   195\n",
              "               4476                   178\n",
              "               4477                   192\n",
              "               4478                   176\n",
              "               4479                   174\n",
              "               4480                   178\n",
              "               4481                   179\n",
              "               4482                   178\n",
              "               4483                   177\n",
              "               4484                   169\n",
              "               4485                   185\n",
              "               4486                   202\n",
              "               4487                   182\n",
              "               4488                   171\n",
              "               4489                   185\n",
              "               4490                   186\n",
              "               4491                   145\n",
              "               4492                   154\n",
              "               4493                   178\n",
              "               4494                   154\n",
              "               4495                   157\n",
              "               4496                   156\n",
              "\n",
              "[170398 rows x 1 columns]"
            ]
          },
          "metadata": {
            "tags": []
          },
          "execution_count": 138
        }
      ]
    },
    {
      "cell_type": "markdown",
      "metadata": {
        "id": "c5grNPO3zOMP",
        "colab_type": "text"
      },
      "source": [
        "# 3: Applying all steps on remaining Data\n",
        "\n",
        "till now we have cleaned our one month data and applied 2 main pre processising work that is making clusters and time bins. now we will perform above activities on our remaining data sets of year 2016. for this we will make a function below."
      ]
    },
    {
      "cell_type": "code",
      "metadata": {
        "id": "RT7sxzU_tjsQ",
        "colab_type": "code",
        "colab": {}
      },
      "source": [
        "def datapreparation(month, kmeans, month_no, year_no):\n",
        "  print('Return with trip times.')\n",
        "  dframe_with_duration = return_with_times(month)\n",
        "  \n",
        "  print(\"Remove outliers\")\n",
        "  new_frame1 = remove_outliers(dframe_with_duration)\n",
        "  \n",
        "  print(\"Clustering\")\n",
        "  new_frame1['pickup_cluster'] = kmeans.predict(new_frame1[['pickup_latitude','pickup_longitude']])\n",
        "  \n",
        "  print('Final groupby')\n",
        "  final_updated_frame = add_pickup_bins(new_frame1,month_no,year_no)\n",
        "  final_groupby_frame = final_updated_frame[['pickup_cluster','pickup_bins','trip_distance']].groupby(['pickup_cluster','pickup_bins']).count()\n",
        "  \n",
        "  return final_updated_frame, final_groupby_frame"
      ],
      "execution_count": 0,
      "outputs": []
    },
    {
      "cell_type": "code",
      "metadata": {
        "id": "Rt-7mSi_1snO",
        "colab_type": "code",
        "outputId": "ade6e490-727a-4bfa-d321-f4d1d5c8480e",
        "colab": {
          "base_uri": "https://localhost:8080/",
          "height": 34
        }
      },
      "source": [
        "link = 'https://drive.google.com/open?id=19pxY-1nlolOS0bQLDRYRjAW5Vuanm-CD'\n",
        "fluff, id = link.split('=')\n",
        "print (id)\n",
        "downloaded = drive.CreateFile({'id':id}) \n",
        "downloaded.GetContentFile('Copy of yellow_tripdata_2016-01.csv')  \n",
        "#month = dd.read_csv('Copy of yellow_tripdata_2015-01.csv')\n",
        "# Dataset is now stored in a dask Dataframe\n",
        "month_jan_2016 = dd.read_csv('Copy of yellow_tripdata_2016-01.csv')"
      ],
      "execution_count": 140,
      "outputs": [
        {
          "output_type": "stream",
          "text": [
            "19pxY-1nlolOS0bQLDRYRjAW5Vuanm-CD\n"
          ],
          "name": "stdout"
        }
      ]
    },
    {
      "cell_type": "code",
      "metadata": {
        "id": "pMm7Ng08iIF_",
        "colab_type": "code",
        "outputId": "4d0c35ee-e8ce-402f-8f2d-cbd8e68ea0bf",
        "colab": {
          "base_uri": "https://localhost:8080/",
          "height": 34
        }
      },
      "source": [
        "link = 'https://drive.google.com/open?id=19pxY-1nlolOS0bQLDRYRjAW5Vuanm-CD'\n",
        "fluff, id = link.split('=')\n",
        "print (id)\n",
        "downloaded = drive.CreateFile({'id':id}) \n",
        "downloaded.GetContentFile('Copy of yellow_tripdata_2016-02.csv')  \n",
        "#month = dd.read_csv('Copy of yellow_tripdata_2015-01.csv')\n",
        "# Dataset is now stored in a dask Dataframe\n",
        "month_feb_2016 = dd.read_csv('Copy of yellow_tripdata_2016-02.csv')"
      ],
      "execution_count": 99,
      "outputs": [
        {
          "output_type": "stream",
          "text": [
            "19pxY-1nlolOS0bQLDRYRjAW5Vuanm-CD\n"
          ],
          "name": "stdout"
        }
      ]
    },
    {
      "cell_type": "code",
      "metadata": {
        "id": "wLNVAr7x5e_p",
        "colab_type": "code",
        "outputId": "6f9c33c4-2edc-4b67-f83b-b3e5e3ebf263",
        "colab": {
          "base_uri": "https://localhost:8080/",
          "height": 34
        }
      },
      "source": [
        "link = 'https://drive.google.com/open?id=19pxY-1nlolOS0bQLDRYRjAW5Vuanm-CD'\n",
        "fluff, id = link.split('=')\n",
        "print (id)\n",
        "downloaded = drive.CreateFile({'id':id}) \n",
        "downloaded.GetContentFile('Copy of yellow_tripdata_2016-03.csv')  \n",
        "#month = dd.read_csv('Copy of yellow_tripdata_2015-01.csv')\n",
        "# Dataset is now stored in a dask Dataframe\n",
        "month_march_2016 = dd.read_csv('Copy of yellow_tripdata_2016-03.csv')"
      ],
      "execution_count": 100,
      "outputs": [
        {
          "output_type": "stream",
          "text": [
            "19pxY-1nlolOS0bQLDRYRjAW5Vuanm-CD\n"
          ],
          "name": "stdout"
        }
      ]
    },
    {
      "cell_type": "code",
      "metadata": {
        "id": "kucpeiri123g",
        "colab_type": "code",
        "outputId": "0a168c24-909e-44be-f932-eac458c286dc",
        "colab": {
          "base_uri": "https://localhost:8080/",
          "height": 221
        }
      },
      "source": [
        "jan_2016_frame, jan_2016_groupby = datapreparation(month_jan_2016, kmeans, 1, 2016)"
      ],
      "execution_count": 101,
      "outputs": [
        {
          "output_type": "stream",
          "text": [
            "Return with trip times.\n",
            "Remove outliers\n",
            "Number of pickup records =  12748986\n",
            "number of outlier coordinates lying outside NY boundries =  293919\n",
            "number of outlier from trip times analysis =  23889\n",
            "number of outlier from trip distance analysis =  0\n",
            "number of outlier from trip speed analysis =  24473\n",
            "number of outliers from fare analysis =  5275\n",
            "Total outliers removed 485773\n",
            "---\n",
            "Clustering\n",
            "Final groupby\n"
          ],
          "name": "stdout"
        }
      ]
    },
    {
      "cell_type": "code",
      "metadata": {
        "id": "uQFoZq_rt6DA",
        "colab_type": "code",
        "outputId": "76fe2214-897c-48d0-9a39-0b0b9c539fc2",
        "colab": {
          "base_uri": "https://localhost:8080/",
          "height": 425
        }
      },
      "source": [
        "feb_2016_frame, feb_2016_groupby = datapreparation(month_feb_2016, kmeans, 2, 2016)\n",
        "march_2016_frame, march_2016_groupby = datapreparation(month_march_2016, kmeans, 3, 2016)"
      ],
      "execution_count": 102,
      "outputs": [
        {
          "output_type": "stream",
          "text": [
            "Return with trip times.\n",
            "Remove outliers\n",
            "Number of pickup records =  12748986\n",
            "number of outlier coordinates lying outside NY boundries =  293919\n",
            "number of outlier from trip times analysis =  23889\n",
            "number of outlier from trip distance analysis =  0\n",
            "number of outlier from trip speed analysis =  24473\n",
            "number of outliers from fare analysis =  5275\n",
            "Total outliers removed 485773\n",
            "---\n",
            "Clustering\n",
            "Final groupby\n",
            "Return with trip times.\n",
            "Remove outliers\n",
            "Number of pickup records =  12748986\n",
            "number of outlier coordinates lying outside NY boundries =  293919\n",
            "number of outlier from trip times analysis =  23889\n",
            "number of outlier from trip distance analysis =  0\n",
            "number of outlier from trip speed analysis =  24473\n",
            "number of outliers from fare analysis =  5275\n",
            "Total outliers removed 485773\n",
            "---\n",
            "Clustering\n",
            "Final groupby\n"
          ],
          "name": "stdout"
        }
      ]
    },
    {
      "cell_type": "markdown",
      "metadata": {
        "id": "m5FoAvuGGQH3",
        "colab_type": "text"
      },
      "source": [
        "# 4: SMOOTHING\n",
        "\n"
      ]
    },
    {
      "cell_type": "code",
      "metadata": {
        "id": "72Cm02Pj9f6h",
        "colab_type": "code",
        "colab": {}
      },
      "source": [
        "# making unique bins where pickup values are present for each region\n",
        "\n",
        "def return_bins(frame):\n",
        "  values = []\n",
        "  for i in range(0, 40):\n",
        "    val = frame[frame['pickup_cluster'] == i]\n",
        "    lis = list(set(val['pickup_bins']))\n",
        "    lis.sort()\n",
        "    values.append(lis)\n",
        "  return values\n",
        "    \n",
        "    "
      ],
      "execution_count": 0,
      "outputs": []
    },
    {
      "cell_type": "code",
      "metadata": {
        "id": "1H3CTp-L_KEy",
        "colab_type": "code",
        "colab": {}
      },
      "source": [
        "jan_2015_uni = return_bins(jan_2015_frame)\n",
        "jan_2016_uni = return_bins(jan_2016_frame)\n",
        "\n",
        "feb_2016_uni = return_bins(feb_2016_frame)\n",
        "march_2016_uni = return_bins(march_2016_frame)"
      ],
      "execution_count": 0,
      "outputs": []
    },
    {
      "cell_type": "code",
      "metadata": {
        "id": "e-MtwdCgU8jj",
        "colab_type": "code",
        "outputId": "e2f02723-45a0-4613-d85a-ed523751e790",
        "colab": {
          "base_uri": "https://localhost:8080/",
          "height": 85
        }
      },
      "source": [
        "# number of 10 min indices for jan 2015, jan 2016, fen 2016 and march 2016 are:\n",
        "\n",
        "print(\"jan_2015_indices =\", 24*31*60/10)\n",
        "print(\"jan_2016_indices =\" ,24*31*60/10)\n",
        "print(\"feb_2016_indices =\" ,24*29*60/10)\n",
        "print(\"jan_2015_indices =\", 24*30*60/10)"
      ],
      "execution_count": 143,
      "outputs": [
        {
          "output_type": "stream",
          "text": [
            "jan_2015_indices = 4464.0\n",
            "jan_2016_indices = 4464.0\n",
            "feb_2016_indices = 4176.0\n",
            "jan_2015_indices = 4320.0\n"
          ],
          "name": "stdout"
        }
      ]
    },
    {
      "cell_type": "markdown",
      "metadata": {
        "id": "rlyf11_QC6yD",
        "colab_type": "text"
      },
      "source": [
        "since maximum number of indices are 4464 so we will take this number as base"
      ]
    },
    {
      "cell_type": "code",
      "metadata": {
        "id": "dOgHEukD_d3i",
        "colab_type": "code",
        "outputId": "4e93c2ab-01e5-46c9-e88d-e753fd4b941c",
        "colab": {
          "base_uri": "https://localhost:8080/",
          "height": 697
        }
      },
      "source": [
        "#cheking 0 pickups for each cluster for jan 2015\n",
        "for i in range(40):\n",
        "  print(\"for \",i,\" cluster number of bins with 0 pickups are: \",4464-len(jan_2015_uni[i]))\n"
      ],
      "execution_count": 144,
      "outputs": [
        {
          "output_type": "stream",
          "text": [
            "for  0  cluster number of bins with 0 pickups are:  40\n",
            "for  1  cluster number of bins with 0 pickups are:  1985\n",
            "for  2  cluster number of bins with 0 pickups are:  29\n",
            "for  3  cluster number of bins with 0 pickups are:  354\n",
            "for  4  cluster number of bins with 0 pickups are:  37\n",
            "for  5  cluster number of bins with 0 pickups are:  153\n",
            "for  6  cluster number of bins with 0 pickups are:  34\n",
            "for  7  cluster number of bins with 0 pickups are:  34\n",
            "for  8  cluster number of bins with 0 pickups are:  117\n",
            "for  9  cluster number of bins with 0 pickups are:  40\n",
            "for  10  cluster number of bins with 0 pickups are:  25\n",
            "for  11  cluster number of bins with 0 pickups are:  44\n",
            "for  12  cluster number of bins with 0 pickups are:  42\n",
            "for  13  cluster number of bins with 0 pickups are:  28\n",
            "for  14  cluster number of bins with 0 pickups are:  26\n",
            "for  15  cluster number of bins with 0 pickups are:  31\n",
            "for  16  cluster number of bins with 0 pickups are:  40\n",
            "for  17  cluster number of bins with 0 pickups are:  58\n",
            "for  18  cluster number of bins with 0 pickups are:  1190\n",
            "for  19  cluster number of bins with 0 pickups are:  1357\n",
            "for  20  cluster number of bins with 0 pickups are:  53\n",
            "for  21  cluster number of bins with 0 pickups are:  29\n",
            "for  22  cluster number of bins with 0 pickups are:  29\n",
            "for  23  cluster number of bins with 0 pickups are:  163\n",
            "for  24  cluster number of bins with 0 pickups are:  35\n",
            "for  25  cluster number of bins with 0 pickups are:  41\n",
            "for  26  cluster number of bins with 0 pickups are:  31\n",
            "for  27  cluster number of bins with 0 pickups are:  214\n",
            "for  28  cluster number of bins with 0 pickups are:  36\n",
            "for  29  cluster number of bins with 0 pickups are:  41\n",
            "for  30  cluster number of bins with 0 pickups are:  1180\n",
            "for  31  cluster number of bins with 0 pickups are:  42\n",
            "for  32  cluster number of bins with 0 pickups are:  44\n",
            "for  33  cluster number of bins with 0 pickups are:  43\n",
            "for  34  cluster number of bins with 0 pickups are:  39\n",
            "for  35  cluster number of bins with 0 pickups are:  42\n",
            "for  36  cluster number of bins with 0 pickups are:  36\n",
            "for  37  cluster number of bins with 0 pickups are:  321\n",
            "for  38  cluster number of bins with 0 pickups are:  36\n",
            "for  39  cluster number of bins with 0 pickups are:  43\n"
          ],
          "name": "stdout"
        }
      ]
    },
    {
      "cell_type": "markdown",
      "metadata": {
        "id": "wxdhqxuuEICg",
        "colab_type": "text"
      },
      "source": [
        "from above we can see that there are many bins with no pickups in each cluster, we need to fill these values. for this we can perform 2 operations:\n",
        "1) fill empty values with 0\n",
        "2) fill empty values with missing values"
      ]
    },
    {
      "cell_type": "code",
      "metadata": {
        "id": "OdwZwTGVI4bU",
        "colab_type": "code",
        "colab": {}
      },
      "source": [
        "def fill_with_zero(count_values, values):\n",
        "  smoothed_regions = []\n",
        "  ind = 0\n",
        "  for r in range(0,40):\n",
        "    smoothed_bins = []\n",
        "    for i in range(4464):\n",
        "      if i in values[r]:         #checking if unique bin value is 0 or some specific value\n",
        "        smoothed_bins.append(count_values[ind])       ## pushing value present in trip distance into a list\n",
        "        ind+=1\n",
        "      else:\n",
        "        smoothed_bins.append(0)\n",
        "    smoothed_regions.extend(smoothed_bins)\n",
        "    \n",
        "  return smoothed_regions\n",
        "        "
      ],
      "execution_count": 0,
      "outputs": []
    },
    {
      "cell_type": "code",
      "metadata": {
        "id": "QlmnXi8T9lHj",
        "colab_type": "code",
        "colab": {}
      },
      "source": [
        "def smoothing(count_values,values):\n",
        "    smoothed_regions=[] # stores list of final smoothed values of each reigion\n",
        "    ind=0\n",
        "    repeat=0 \n",
        "    smoothed_value=0\n",
        "    for r in range(0,40):\n",
        "        smoothed_bins=[] #stores the final smoothed values\n",
        "        repeat=0\n",
        "        for i in range(4464):\n",
        "            if repeat!=0: # prevents iteration for a value which is already visited/resolved\n",
        "                repeat-=1\n",
        "                continue\n",
        "            if i in values[r]: #checks if the pickup-bin exists \n",
        "                smoothed_bins.append(count_values[ind]) # appends the value of the pickup bin if it exists\n",
        "            else:\n",
        "                if i!=0:\n",
        "                    right_hand_limit=0\n",
        "                    for j in range(i,4464):\n",
        "                        if  j not in values[r]: #searches for the left-limit or the pickup-bin value which has a pickup value\n",
        "                            continue\n",
        "                        else:\n",
        "                            right_hand_limit=j\n",
        "                            break\n",
        "                    if right_hand_limit==0:\n",
        "                    #Case 1: When we have the last/last few values are found to be missing,hence we have no right-limit here\n",
        "                        smoothed_value=count_values[ind-1]*1.0/((4463-i)+2)*1.0                               \n",
        "                        for j in range(i,4464):                              \n",
        "                            smoothed_bins.append(math.ceil(smoothed_value))\n",
        "                        smoothed_bins[i-1] = math.ceil(smoothed_value)\n",
        "                        repeat=(4463-i)\n",
        "                        ind-=1\n",
        "                    else:\n",
        "                    #Case 2: When we have the missing values between two known values\n",
        "                        smoothed_value=(count_values[ind-1]+count_values[ind])*1.0/((right_hand_limit-i)+2)*1.0             \n",
        "                        for j in range(i,right_hand_limit+1):\n",
        "                            smoothed_bins.append(math.ceil(smoothed_value))\n",
        "                        smoothed_bins[i-1] = math.ceil(smoothed_value)\n",
        "                        repeat=(right_hand_limit-i)\n",
        "                else:\n",
        "                    #Case 3: When we have the first/first few values are found to be missing,hence we have no left-limit here\n",
        "                    right_hand_limit=0\n",
        "                    for j in range(i,4464):\n",
        "                        if  j not in values[r]:\n",
        "                            continue\n",
        "                        else:\n",
        "                            right_hand_limit=j\n",
        "                            break\n",
        "                    smoothed_value=count_values[ind]*1.0/((right_hand_limit-i)+1)*1.0\n",
        "                    for j in range(i,right_hand_limit+1):\n",
        "                            smoothed_bins.append(math.ceil(smoothed_value))\n",
        "                    repeat=(right_hand_limit-i)\n",
        "            ind+=1\n",
        "        smoothed_regions.extend(smoothed_bins)\n",
        "    return smoothed_regions\n"
      ],
      "execution_count": 0,
      "outputs": []
    },
    {
      "cell_type": "code",
      "metadata": {
        "id": "pcF_kPVb9qJ-",
        "colab_type": "code",
        "colab": {}
      },
      "source": [
        ""
      ],
      "execution_count": 0,
      "outputs": []
    },
    {
      "cell_type": "code",
      "metadata": {
        "id": "NGk2IXxu_qRH",
        "colab_type": "code",
        "colab": {}
      },
      "source": [
        "jan_2015_fill = fill_with_zero(jan_2015_groupby['trip_distance'].values, jan_2015_uni)"
      ],
      "execution_count": 0,
      "outputs": []
    },
    {
      "cell_type": "code",
      "metadata": {
        "id": "1DlUHUBmA_lM",
        "colab_type": "code",
        "colab": {}
      },
      "source": [
        "jan_2015_smooth = smoothing(jan_2015_groupby['trip_distance'].values, jan_2015_uni)"
      ],
      "execution_count": 0,
      "outputs": []
    },
    {
      "cell_type": "code",
      "metadata": {
        "id": "zZPtb4DzCWmz",
        "colab_type": "code",
        "colab": {
          "base_uri": "https://localhost:8080/",
          "height": 34
        },
        "outputId": "875241de-a683-464f-e068-a5b071fbbde2"
      },
      "source": [
        "len(jan_2015_fill)"
      ],
      "execution_count": 149,
      "outputs": [
        {
          "output_type": "execute_result",
          "data": {
            "text/plain": [
              "178560"
            ]
          },
          "metadata": {
            "tags": []
          },
          "execution_count": 149
        }
      ]
    },
    {
      "cell_type": "code",
      "metadata": {
        "id": "PUBXZQ66Ca3P",
        "colab_type": "code",
        "colab": {}
      },
      "source": [
        ""
      ],
      "execution_count": 0,
      "outputs": []
    },
    {
      "cell_type": "code",
      "metadata": {
        "id": "eJSDrQdcCo5h",
        "colab_type": "code",
        "colab": {}
      },
      "source": [
        ""
      ],
      "execution_count": 0,
      "outputs": []
    }
  ]
}